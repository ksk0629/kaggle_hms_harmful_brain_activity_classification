{
 "cells": [
  {
   "cell_type": "markdown",
   "id": "3f9e87b2",
   "metadata": {
    "papermill": {
     "duration": 0.005049,
     "end_time": "2024-03-18T01:33:21.325326",
     "exception": false,
     "start_time": "2024-03-18T01:33:21.320277",
     "status": "completed"
    },
    "tags": []
   },
   "source": [
    "# Predict"
   ]
  },
  {
   "cell_type": "code",
   "execution_count": 1,
   "id": "4c5e6faa",
   "metadata": {
    "_cell_guid": "b1076dfc-b9ad-4769-8c92-a6c4dae69d19",
    "_uuid": "8f2839f25d086af736a60e9eeb907d3b93b6e0e5",
    "execution": {
     "iopub.execute_input": "2024-03-18T01:33:21.336113Z",
     "iopub.status.busy": "2024-03-18T01:33:21.335708Z",
     "iopub.status.idle": "2024-03-18T01:35:17.613518Z",
     "shell.execute_reply": "2024-03-18T01:35:17.612413Z"
    },
    "papermill": {
     "duration": 116.285964,
     "end_time": "2024-03-18T01:35:17.615920",
     "exception": false,
     "start_time": "2024-03-18T01:33:21.329956",
     "status": "completed"
    },
    "tags": []
   },
   "outputs": [
    {
     "name": "stdout",
     "output_type": "stream",
     "text": [
      "Start KerasCV\r\n",
      "End KerasCV\r\n",
      "Start TensorFlow\r\n",
      "End TensorFlow\r\n",
      "Start Keras\r\n",
      "End Keras\r\n"
     ]
    }
   ],
   "source": [
    "# Install necessary modules.\n",
    "!echo \"Start KerasCV\"\n",
    "!pip install -q /kaggle/input/kerasv3-lib-ds/keras_cv-0.8.2-py3-none-any.whl --no-deps\n",
    "!echo \"End KerasCV\"\n",
    "\n",
    "!echo \"Start TensorFlow\"\n",
    "!pip install -q /kaggle/input/kerasv3-lib-ds/tensorflow-2.15.0.post1-cp310-cp310-manylinux_2_17_x86_64.manylinux2014_x86_64.whl --no-deps\n",
    "!echo \"End TensorFlow\"\n",
    "\n",
    "!echo \"Start Keras\"\n",
    "!pip install -q /kaggle/input/kerasv3-lib-ds/keras-3.0.4-py3-none-any.whl --no-deps\n",
    "!echo \"End Keras\""
   ]
  },
  {
   "cell_type": "code",
   "execution_count": 2,
   "id": "7ecca942",
   "metadata": {
    "execution": {
     "iopub.execute_input": "2024-03-18T01:35:17.628412Z",
     "iopub.status.busy": "2024-03-18T01:35:17.628087Z",
     "iopub.status.idle": "2024-03-18T01:35:52.838408Z",
     "shell.execute_reply": "2024-03-18T01:35:52.837377Z"
    },
    "papermill": {
     "duration": 35.219172,
     "end_time": "2024-03-18T01:35:52.840888",
     "exception": false,
     "start_time": "2024-03-18T01:35:17.621716",
     "status": "completed"
    },
    "tags": []
   },
   "outputs": [
    {
     "name": "stderr",
     "output_type": "stream",
     "text": [
      "2024-03-18 01:35:21.910366: E external/local_xla/xla/stream_executor/cuda/cuda_dnn.cc:9261] Unable to register cuDNN factory: Attempting to register factory for plugin cuDNN when one has already been registered\n",
      "2024-03-18 01:35:21.910425: E external/local_xla/xla/stream_executor/cuda/cuda_fft.cc:607] Unable to register cuFFT factory: Attempting to register factory for plugin cuFFT when one has already been registered\n",
      "2024-03-18 01:35:21.911880: E external/local_xla/xla/stream_executor/cuda/cuda_blas.cc:1515] Unable to register cuBLAS factory: Attempting to register factory for plugin cuBLAS when one has already been registered\n",
      "Attaching 'config.json' from model 'keras/efficientnetv2/keras/efficientnetv2_s_imagenet/2' to your Kaggle notebook...\n",
      "Attaching 'config.json' from model 'keras/efficientnetv2/keras/efficientnetv2_s_imagenet/2' to your Kaggle notebook...\n",
      "Attaching 'model.weights.h5' from model 'keras/efficientnetv2/keras/efficientnetv2_s_imagenet/2' to your Kaggle notebook...\n"
     ]
    }
   ],
   "source": [
    "import os\n",
    "os.environ[\"KERAS_BACKEND\"] = \"jax\" # you can also use tensorflow or torch\n",
    "\n",
    "import joblib\n",
    "import keras_cv\n",
    "import matplotlib.pyplot as plt\n",
    "import numpy as np\n",
    "import pandas as pd\n",
    "import tensorflow as tf\n",
    "from tqdm.notebook import tqdm\n",
    "\n",
    "from config_hms_hbac import Config\n",
    "from trainer_hms_hbac import Trainer"
   ]
  },
  {
   "cell_type": "code",
   "execution_count": 3,
   "id": "87506fae",
   "metadata": {
    "execution": {
     "iopub.execute_input": "2024-03-18T01:35:52.853140Z",
     "iopub.status.busy": "2024-03-18T01:35:52.852821Z",
     "iopub.status.idle": "2024-03-18T01:35:52.857772Z",
     "shell.execute_reply": "2024-03-18T01:35:52.856915Z"
    },
    "papermill": {
     "duration": 0.013374,
     "end_time": "2024-03-18T01:35:52.859750",
     "exception": false,
     "start_time": "2024-03-18T01:35:52.846376",
     "status": "completed"
    },
    "tags": []
   },
   "outputs": [],
   "source": [
    "# https://keras.io/api/keras_cv/models/tasks/image_classifier/\n",
    "config = Config(pretrained_model=\"efficientnetv2_s_imagenet\",\n",
    "                image_size=[400, 300],\n",
    "                epochs=100,\n",
    "                batch_size=32,\n",
    "                lr_mode=\"cos\")"
   ]
  },
  {
   "cell_type": "code",
   "execution_count": 4,
   "id": "368fa799",
   "metadata": {
    "execution": {
     "iopub.execute_input": "2024-03-18T01:35:52.871361Z",
     "iopub.status.busy": "2024-03-18T01:35:52.871108Z",
     "iopub.status.idle": "2024-03-18T01:36:00.122722Z",
     "shell.execute_reply": "2024-03-18T01:36:00.121820Z"
    },
    "papermill": {
     "duration": 7.259653,
     "end_time": "2024-03-18T01:36:00.124636",
     "exception": false,
     "start_time": "2024-03-18T01:35:52.864983",
     "status": "completed"
    },
    "tags": []
   },
   "outputs": [
    {
     "name": "stderr",
     "output_type": "stream",
     "text": [
      "Attaching 'config.json' from model 'keras/efficientnetv2/keras/efficientnetv2_s_imagenet/2' to your Kaggle notebook...\n",
      "Attaching 'config.json' from model 'keras/efficientnetv2/keras/efficientnetv2_s_imagenet/2' to your Kaggle notebook...\n",
      "Attaching 'model.weights.h5' from model 'keras/efficientnetv2/keras/efficientnetv2_s_imagenet/2' to your Kaggle notebook...\n"
     ]
    },
    {
     "data": {
      "text/html": [
       "<pre style=\"white-space:pre;overflow-x:auto;line-height:normal;font-family:Menlo,'DejaVu Sans Mono',consolas,'Courier New',monospace\"><span style=\"font-weight: bold\">Model: \"image_classifier_1\"</span>\n",
       "</pre>\n"
      ],
      "text/plain": [
       "\u001b[1mModel: \"image_classifier_1\"\u001b[0m\n"
      ]
     },
     "metadata": {},
     "output_type": "display_data"
    },
    {
     "data": {
      "text/html": [
       "<pre style=\"white-space:pre;overflow-x:auto;line-height:normal;font-family:Menlo,'DejaVu Sans Mono',consolas,'Courier New',monospace\">┏━━━━━━━━━━━━━━━━━━━━━━━━━━━━━━━━━┳━━━━━━━━━━━━━━━━━━━━━━━━━━━┳━━━━━━━━━━━━┓\n",
       "┃<span style=\"font-weight: bold\"> Layer (type)                    </span>┃<span style=\"font-weight: bold\"> Output Shape              </span>┃<span style=\"font-weight: bold\">    Param # </span>┃\n",
       "┡━━━━━━━━━━━━━━━━━━━━━━━━━━━━━━━━━╇━━━━━━━━━━━━━━━━━━━━━━━━━━━╇━━━━━━━━━━━━┩\n",
       "│ input_layer_1 (<span style=\"color: #0087ff; text-decoration-color: #0087ff\">InputLayer</span>)      │ (<span style=\"color: #00d7ff; text-decoration-color: #00d7ff\">None</span>, <span style=\"color: #00d7ff; text-decoration-color: #00d7ff\">None</span>, <span style=\"color: #00d7ff; text-decoration-color: #00d7ff\">None</span>, <span style=\"color: #00af00; text-decoration-color: #00af00\">3</span>)     │          <span style=\"color: #00af00; text-decoration-color: #00af00\">0</span> │\n",
       "├─────────────────────────────────┼───────────────────────────┼────────────┤\n",
       "│ efficient_net_v2s_backbone      │ (<span style=\"color: #00d7ff; text-decoration-color: #00d7ff\">None</span>, <span style=\"color: #00d7ff; text-decoration-color: #00d7ff\">None</span>, <span style=\"color: #00d7ff; text-decoration-color: #00d7ff\">None</span>, <span style=\"color: #00af00; text-decoration-color: #00af00\">1280</span>)  │ <span style=\"color: #00af00; text-decoration-color: #00af00\">20,331,360</span> │\n",
       "│ (<span style=\"color: #0087ff; text-decoration-color: #0087ff\">EfficientNetV2Backbone</span>)        │                           │            │\n",
       "├─────────────────────────────────┼───────────────────────────┼────────────┤\n",
       "│ avg_pool                        │ (<span style=\"color: #00d7ff; text-decoration-color: #00d7ff\">None</span>, <span style=\"color: #00af00; text-decoration-color: #00af00\">1280</span>)              │          <span style=\"color: #00af00; text-decoration-color: #00af00\">0</span> │\n",
       "│ (<span style=\"color: #0087ff; text-decoration-color: #0087ff\">GlobalAveragePooling2D</span>)        │                           │            │\n",
       "├─────────────────────────────────┼───────────────────────────┼────────────┤\n",
       "│ predictions (<span style=\"color: #0087ff; text-decoration-color: #0087ff\">Dense</span>)             │ (<span style=\"color: #00d7ff; text-decoration-color: #00d7ff\">None</span>, <span style=\"color: #00af00; text-decoration-color: #00af00\">6</span>)                 │      <span style=\"color: #00af00; text-decoration-color: #00af00\">7,686</span> │\n",
       "└─────────────────────────────────┴───────────────────────────┴────────────┘\n",
       "</pre>\n"
      ],
      "text/plain": [
       "┏━━━━━━━━━━━━━━━━━━━━━━━━━━━━━━━━━┳━━━━━━━━━━━━━━━━━━━━━━━━━━━┳━━━━━━━━━━━━┓\n",
       "┃\u001b[1m \u001b[0m\u001b[1mLayer (type)                   \u001b[0m\u001b[1m \u001b[0m┃\u001b[1m \u001b[0m\u001b[1mOutput Shape             \u001b[0m\u001b[1m \u001b[0m┃\u001b[1m \u001b[0m\u001b[1m   Param #\u001b[0m\u001b[1m \u001b[0m┃\n",
       "┡━━━━━━━━━━━━━━━━━━━━━━━━━━━━━━━━━╇━━━━━━━━━━━━━━━━━━━━━━━━━━━╇━━━━━━━━━━━━┩\n",
       "│ input_layer_1 (\u001b[38;5;33mInputLayer\u001b[0m)      │ (\u001b[38;5;45mNone\u001b[0m, \u001b[38;5;45mNone\u001b[0m, \u001b[38;5;45mNone\u001b[0m, \u001b[38;5;34m3\u001b[0m)     │          \u001b[38;5;34m0\u001b[0m │\n",
       "├─────────────────────────────────┼───────────────────────────┼────────────┤\n",
       "│ efficient_net_v2s_backbone      │ (\u001b[38;5;45mNone\u001b[0m, \u001b[38;5;45mNone\u001b[0m, \u001b[38;5;45mNone\u001b[0m, \u001b[38;5;34m1280\u001b[0m)  │ \u001b[38;5;34m20,331,360\u001b[0m │\n",
       "│ (\u001b[38;5;33mEfficientNetV2Backbone\u001b[0m)        │                           │            │\n",
       "├─────────────────────────────────┼───────────────────────────┼────────────┤\n",
       "│ avg_pool                        │ (\u001b[38;5;45mNone\u001b[0m, \u001b[38;5;34m1280\u001b[0m)              │          \u001b[38;5;34m0\u001b[0m │\n",
       "│ (\u001b[38;5;33mGlobalAveragePooling2D\u001b[0m)        │                           │            │\n",
       "├─────────────────────────────────┼───────────────────────────┼────────────┤\n",
       "│ predictions (\u001b[38;5;33mDense\u001b[0m)             │ (\u001b[38;5;45mNone\u001b[0m, \u001b[38;5;34m6\u001b[0m)                 │      \u001b[38;5;34m7,686\u001b[0m │\n",
       "└─────────────────────────────────┴───────────────────────────┴────────────┘\n"
      ]
     },
     "metadata": {},
     "output_type": "display_data"
    },
    {
     "data": {
      "text/html": [
       "<pre style=\"white-space:pre;overflow-x:auto;line-height:normal;font-family:Menlo,'DejaVu Sans Mono',consolas,'Courier New',monospace\"><span style=\"font-weight: bold\"> Total params: </span><span style=\"color: #00af00; text-decoration-color: #00af00\">20,339,046</span> (77.59 MB)\n",
       "</pre>\n"
      ],
      "text/plain": [
       "\u001b[1m Total params: \u001b[0m\u001b[38;5;34m20,339,046\u001b[0m (77.59 MB)\n"
      ]
     },
     "metadata": {},
     "output_type": "display_data"
    },
    {
     "data": {
      "text/html": [
       "<pre style=\"white-space:pre;overflow-x:auto;line-height:normal;font-family:Menlo,'DejaVu Sans Mono',consolas,'Courier New',monospace\"><span style=\"font-weight: bold\"> Trainable params: </span><span style=\"color: #00af00; text-decoration-color: #00af00\">20,185,174</span> (77.00 MB)\n",
       "</pre>\n"
      ],
      "text/plain": [
       "\u001b[1m Trainable params: \u001b[0m\u001b[38;5;34m20,185,174\u001b[0m (77.00 MB)\n"
      ]
     },
     "metadata": {},
     "output_type": "display_data"
    },
    {
     "data": {
      "text/html": [
       "<pre style=\"white-space:pre;overflow-x:auto;line-height:normal;font-family:Menlo,'DejaVu Sans Mono',consolas,'Courier New',monospace\"><span style=\"font-weight: bold\"> Non-trainable params: </span><span style=\"color: #00af00; text-decoration-color: #00af00\">153,872</span> (601.06 KB)\n",
       "</pre>\n"
      ],
      "text/plain": [
       "\u001b[1m Non-trainable params: \u001b[0m\u001b[38;5;34m153,872\u001b[0m (601.06 KB)\n"
      ]
     },
     "metadata": {},
     "output_type": "display_data"
    }
   ],
   "source": [
    "trainer = Trainer(config)\n",
    "\n",
    "trainer.set_model()\n",
    "trainer.compile_model()\n",
    "trainer.show_model_summary()"
   ]
  },
  {
   "cell_type": "code",
   "execution_count": 5,
   "id": "bc214e2f",
   "metadata": {
    "execution": {
     "iopub.execute_input": "2024-03-18T01:36:00.138913Z",
     "iopub.status.busy": "2024-03-18T01:36:00.138395Z",
     "iopub.status.idle": "2024-03-18T01:36:20.242804Z",
     "shell.execute_reply": "2024-03-18T01:36:20.241827Z"
    },
    "papermill": {
     "duration": 20.11377,
     "end_time": "2024-03-18T01:36:20.245033",
     "exception": false,
     "start_time": "2024-03-18T01:36:00.131263",
     "status": "completed"
    },
    "tags": []
   },
   "outputs": [
    {
     "name": "stderr",
     "output_type": "stream",
     "text": [
      "/opt/conda/lib/python3.10/site-packages/keras/src/saving/saving_lib.py:394: UserWarning: Skipping variable loading for optimizer 'adam', because it has 2 variables whereas the saved optimizer has 906 variables. \n",
      "  trackable.load_own_variables(weights_store.get(inner_path))\n"
     ]
    }
   ],
   "source": [
    "model_path = \"/kaggle/input/hms_hbac/keras/test/2/20240316_efficientnetv2_s_imagenet.keras\"\n",
    "trainer.model.load_weights(model_path)"
   ]
  },
  {
   "cell_type": "code",
   "execution_count": 6,
   "id": "bf26472f",
   "metadata": {
    "execution": {
     "iopub.execute_input": "2024-03-18T01:36:20.259839Z",
     "iopub.status.busy": "2024-03-18T01:36:20.259536Z",
     "iopub.status.idle": "2024-03-18T01:36:20.290791Z",
     "shell.execute_reply": "2024-03-18T01:36:20.289910Z"
    },
    "papermill": {
     "duration": 0.041087,
     "end_time": "2024-03-18T01:36:20.292878",
     "exception": false,
     "start_time": "2024-03-18T01:36:20.251791",
     "status": "completed"
    },
    "tags": []
   },
   "outputs": [
    {
     "data": {
      "text/html": [
       "<div>\n",
       "<style scoped>\n",
       "    .dataframe tbody tr th:only-of-type {\n",
       "        vertical-align: middle;\n",
       "    }\n",
       "\n",
       "    .dataframe tbody tr th {\n",
       "        vertical-align: top;\n",
       "    }\n",
       "\n",
       "    .dataframe thead th {\n",
       "        text-align: right;\n",
       "    }\n",
       "</style>\n",
       "<table border=\"1\" class=\"dataframe\">\n",
       "  <thead>\n",
       "    <tr style=\"text-align: right;\">\n",
       "      <th></th>\n",
       "      <th>spectrogram_id</th>\n",
       "      <th>eeg_id</th>\n",
       "      <th>patient_id</th>\n",
       "      <th>eeg_path</th>\n",
       "      <th>spec_path</th>\n",
       "      <th>spec2_path</th>\n",
       "    </tr>\n",
       "  </thead>\n",
       "  <tbody>\n",
       "    <tr>\n",
       "      <th>0</th>\n",
       "      <td>853520</td>\n",
       "      <td>3911565283</td>\n",
       "      <td>6885</td>\n",
       "      <td>/kaggle/input/hms-harmful-brain-activity-class...</td>\n",
       "      <td>/kaggle/input/hms-harmful-brain-activity-class...</td>\n",
       "      <td>hms-hbac/test_spectrograms/853520.npy</td>\n",
       "    </tr>\n",
       "  </tbody>\n",
       "</table>\n",
       "</div>"
      ],
      "text/plain": [
       "   spectrogram_id      eeg_id  patient_id  \\\n",
       "0          853520  3911565283        6885   \n",
       "\n",
       "                                            eeg_path  \\\n",
       "0  /kaggle/input/hms-harmful-brain-activity-class...   \n",
       "\n",
       "                                           spec_path  \\\n",
       "0  /kaggle/input/hms-harmful-brain-activity-class...   \n",
       "\n",
       "                              spec2_path  \n",
       "0  hms-hbac/test_spectrograms/853520.npy  "
      ]
     },
     "metadata": {},
     "output_type": "display_data"
    }
   ],
   "source": [
    "BASE_PATH = \"/kaggle/input/hms-harmful-brain-activity-classification\"\n",
    "SPEC_DIR = \"hms-hbac\"\n",
    "os.makedirs(SPEC_DIR+'/test_spectrograms', exist_ok=True)\n",
    "\n",
    "test_df = pd.read_csv(f'{BASE_PATH}/test.csv')\n",
    "test_df['eeg_path'] = f'{BASE_PATH}/test_eegs/'+test_df['eeg_id'].astype(str)+'.parquet'\n",
    "test_df['spec_path'] = f'{BASE_PATH}/test_spectrograms/'+test_df['spectrogram_id'].astype(str)+'.parquet'\n",
    "test_df['spec2_path'] = f'{SPEC_DIR}/test_spectrograms/'+test_df['spectrogram_id'].astype(str)+'.npy'\n",
    "display(test_df.head(2))"
   ]
  },
  {
   "cell_type": "code",
   "execution_count": 7,
   "id": "fe827f4b",
   "metadata": {
    "execution": {
     "iopub.execute_input": "2024-03-18T01:36:20.308308Z",
     "iopub.status.busy": "2024-03-18T01:36:20.307978Z",
     "iopub.status.idle": "2024-03-18T01:36:21.496735Z",
     "shell.execute_reply": "2024-03-18T01:36:21.495500Z"
    },
    "papermill": {
     "duration": 1.199636,
     "end_time": "2024-03-18T01:36:21.499355",
     "exception": false,
     "start_time": "2024-03-18T01:36:20.299719",
     "status": "completed"
    },
    "tags": []
   },
   "outputs": [
    {
     "data": {
      "application/vnd.jupyter.widget-view+json": {
       "model_id": "990ff13271eb433fa0cedc5163a5ad0a",
       "version_major": 2,
       "version_minor": 0
      },
      "text/plain": [
       "  0%|          | 0/1 [00:00<?, ?it/s]"
      ]
     },
     "metadata": {},
     "output_type": "display_data"
    }
   ],
   "source": [
    "# Define a function to process a single eeg_id\n",
    "def process_spec(spec_id, split=\"train\"):\n",
    "    spec_path = f\"{BASE_PATH}/{split}_spectrograms/{spec_id}.parquet\"\n",
    "    spec = pd.read_parquet(spec_path)\n",
    "    spec = spec.fillna(0).values[:, 1:].T # fill NaN values with 0, transpose for (Time, Freq) -> (Freq, Time)\n",
    "    spec = spec.astype(\"float32\")\n",
    "    np.save(f\"{SPEC_DIR}/{split}_spectrograms/{spec_id}.npy\", spec)\n",
    "\n",
    "# Get unique spec_ids of test data\n",
    "test_spec_ids = test_df[\"spectrogram_id\"].unique()\n",
    "\n",
    "os.makedirs(SPEC_DIR+'/test_spectrograms', exist_ok=True)\n",
    "\n",
    "# Parallelize the processing using joblib for test data\n",
    "_ = joblib.Parallel(n_jobs=-1, backend=\"loky\")(\n",
    "    joblib.delayed(process_spec)(spec_id, \"test\")\n",
    "    for spec_id in tqdm(test_spec_ids, total=len(test_spec_ids))\n",
    ")"
   ]
  },
  {
   "cell_type": "code",
   "execution_count": 8,
   "id": "8849be05",
   "metadata": {
    "execution": {
     "iopub.execute_input": "2024-03-18T01:36:21.516683Z",
     "iopub.status.busy": "2024-03-18T01:36:21.515895Z",
     "iopub.status.idle": "2024-03-18T01:36:21.537750Z",
     "shell.execute_reply": "2024-03-18T01:36:21.536975Z"
    },
    "papermill": {
     "duration": 0.032137,
     "end_time": "2024-03-18T01:36:21.539683",
     "exception": false,
     "start_time": "2024-03-18T01:36:21.507546",
     "status": "completed"
    },
    "tags": []
   },
   "outputs": [],
   "source": [
    "def build_augmenter(dim=config.image_size):\n",
    "    augmenters = [\n",
    "        keras_cv.layers.MixUp(alpha=2.0),\n",
    "        keras_cv.layers.RandomCutout(height_factor=(1.0, 1.0),\n",
    "                                     width_factor=(0.06, 0.1)), # freq-masking\n",
    "        keras_cv.layers.RandomCutout(height_factor=(0.06, 0.1),\n",
    "                                     width_factor=(1.0, 1.0)), # time-masking\n",
    "    ]\n",
    "    \n",
    "    def augment(img, label):\n",
    "        data = {\"images\":img, \"labels\":label}\n",
    "        for augmenter in augmenters:\n",
    "            if tf.random.uniform([]) < 0.5:\n",
    "                data = augmenter(data, training=True)\n",
    "        return data[\"images\"], data[\"labels\"]\n",
    "    \n",
    "    return augment\n",
    "\n",
    "\n",
    "def build_decoder(with_labels=True, target_size=config.image_size, dtype=32):\n",
    "    def decode_signal(path, offset=None):\n",
    "        # Read .npy files and process the signal\n",
    "        file_bytes = tf.io.read_file(path)\n",
    "        sig = tf.io.decode_raw(file_bytes, tf.float32)\n",
    "        sig = sig[1024//dtype:]  # Remove header tag\n",
    "        sig = tf.reshape(sig, [400, -1])\n",
    "        \n",
    "        # Extract labeled subsample from full spectrogram using \"offset\"\n",
    "        if offset is not None: \n",
    "            offset = offset // 2  # Only odd values are given\n",
    "            sig = sig[:, offset:offset+300]\n",
    "            \n",
    "            # Pad spectrogram to ensure the same input shape of [400, 300]\n",
    "            pad_size = tf.math.maximum(0, 300 - tf.shape(sig)[1])\n",
    "            sig = tf.pad(sig, [[0, 0], [0, pad_size]])\n",
    "            sig = tf.reshape(sig, [400, 300])\n",
    "        \n",
    "        # Log spectrogram \n",
    "        sig = tf.clip_by_value(sig, tf.math.exp(-4.0), tf.math.exp(8.0)) # avoid 0 in log\n",
    "        sig = tf.math.log(sig)\n",
    "        \n",
    "        # Normalize spectrogram\n",
    "        sig -= tf.math.reduce_mean(sig)\n",
    "        sig /= tf.math.reduce_std(sig) + 1e-6\n",
    "        \n",
    "        # Mono channel to 3 channels to use \"ImageNet\" weights\n",
    "        sig = tf.tile(sig[..., None], [1, 1, 3])\n",
    "        return sig\n",
    "    \n",
    "    def decode_label(label):\n",
    "        label = tf.one_hot(label, config.num_classes)\n",
    "        label = tf.cast(label, tf.float32)\n",
    "        label = tf.reshape(label, [config.num_classes])\n",
    "        return label\n",
    "    \n",
    "    def decode_with_labels(path, offset=None, label=None):\n",
    "        sig = decode_signal(path, offset)\n",
    "        label = decode_label(label)\n",
    "        return (sig, label)\n",
    "    \n",
    "    return decode_with_labels if with_labels else decode_signal\n",
    "\n",
    "\n",
    "def build_dataset(paths, offsets=None, labels=None, batch_size=32, cache=True,\n",
    "                  decode_fn=None, augment_fn=None,\n",
    "                  augment=False, repeat=True, shuffle=1024, \n",
    "                  cache_dir=\"\", drop_remainder=False):\n",
    "    if cache_dir != \"\" and cache is True:\n",
    "        os.makedirs(cache_dir, exist_ok=True)\n",
    "    \n",
    "    if decode_fn is None:\n",
    "        decode_fn = build_decoder(labels is not None)\n",
    "    \n",
    "    if augment_fn is None:\n",
    "        augment_fn = build_augmenter()\n",
    "    \n",
    "    AUTO = tf.data.experimental.AUTOTUNE\n",
    "    slices = (paths, offsets) if labels is None else (paths, offsets, labels)\n",
    "    \n",
    "    ds = tf.data.Dataset.from_tensor_slices(slices)\n",
    "    ds = ds.map(decode_fn, num_parallel_calls=AUTO)\n",
    "    ds = ds.cache(cache_dir) if cache else ds\n",
    "    ds = ds.repeat() if repeat else ds\n",
    "    if shuffle: \n",
    "        ds = ds.shuffle(shuffle, seed=config.seed)\n",
    "        opt = tf.data.Options()\n",
    "        opt.experimental_deterministic = False\n",
    "        ds = ds.with_options(opt)\n",
    "    ds = ds.batch(batch_size, drop_remainder=drop_remainder)\n",
    "    ds = ds.map(augment_fn, num_parallel_calls=AUTO) if augment else ds\n",
    "    ds = ds.prefetch(AUTO)\n",
    "    return ds"
   ]
  },
  {
   "cell_type": "code",
   "execution_count": 9,
   "id": "ee8daeb6",
   "metadata": {
    "execution": {
     "iopub.execute_input": "2024-03-18T01:36:21.554469Z",
     "iopub.status.busy": "2024-03-18T01:36:21.554186Z",
     "iopub.status.idle": "2024-03-18T01:36:21.822586Z",
     "shell.execute_reply": "2024-03-18T01:36:21.821742Z"
    },
    "papermill": {
     "duration": 0.278399,
     "end_time": "2024-03-18T01:36:21.824837",
     "exception": false,
     "start_time": "2024-03-18T01:36:21.546438",
     "status": "completed"
    },
    "tags": []
   },
   "outputs": [],
   "source": [
    "test_paths = test_df.spec2_path.values\n",
    "test_ds = build_dataset(test_paths, batch_size=min(config.batch_size, len(test_df)),\n",
    "                        repeat=False, shuffle=False, cache=False, augment=False)"
   ]
  },
  {
   "cell_type": "code",
   "execution_count": 10,
   "id": "82981bca",
   "metadata": {
    "execution": {
     "iopub.execute_input": "2024-03-18T01:36:21.840385Z",
     "iopub.status.busy": "2024-03-18T01:36:21.840005Z",
     "iopub.status.idle": "2024-03-18T01:36:51.727980Z",
     "shell.execute_reply": "2024-03-18T01:36:51.727011Z"
    },
    "papermill": {
     "duration": 29.897836,
     "end_time": "2024-03-18T01:36:51.729959",
     "exception": false,
     "start_time": "2024-03-18T01:36:21.832123",
     "status": "completed"
    },
    "tags": []
   },
   "outputs": [
    {
     "name": "stdout",
     "output_type": "stream",
     "text": [
      "\u001b[1m1/1\u001b[0m \u001b[32m━━━━━━━━━━━━━━━━━━━━\u001b[0m\u001b[37m\u001b[0m \u001b[1m11s\u001b[0m 11s/step\n"
     ]
    },
    {
     "data": {
      "text/html": [
       "<div>\n",
       "<style scoped>\n",
       "    .dataframe tbody tr th:only-of-type {\n",
       "        vertical-align: middle;\n",
       "    }\n",
       "\n",
       "    .dataframe tbody tr th {\n",
       "        vertical-align: top;\n",
       "    }\n",
       "\n",
       "    .dataframe thead th {\n",
       "        text-align: right;\n",
       "    }\n",
       "</style>\n",
       "<table border=\"1\" class=\"dataframe\">\n",
       "  <thead>\n",
       "    <tr style=\"text-align: right;\">\n",
       "      <th></th>\n",
       "      <th>eeg_id</th>\n",
       "      <th>seizure_vote</th>\n",
       "      <th>lpd_vote</th>\n",
       "      <th>gpd_vote</th>\n",
       "      <th>lrda_vote</th>\n",
       "      <th>grda_vote</th>\n",
       "      <th>other_vote</th>\n",
       "    </tr>\n",
       "  </thead>\n",
       "  <tbody>\n",
       "    <tr>\n",
       "      <th>0</th>\n",
       "      <td>3911565283</td>\n",
       "      <td>0.057715</td>\n",
       "      <td>0.016063</td>\n",
       "      <td>0.006033</td>\n",
       "      <td>0.150443</td>\n",
       "      <td>0.606327</td>\n",
       "      <td>0.16342</td>\n",
       "    </tr>\n",
       "  </tbody>\n",
       "</table>\n",
       "</div>"
      ],
      "text/plain": [
       "       eeg_id  seizure_vote  lpd_vote  gpd_vote  lrda_vote  grda_vote  \\\n",
       "0  3911565283      0.057715  0.016063  0.006033   0.150443   0.606327   \n",
       "\n",
       "   other_vote  \n",
       "0     0.16342  "
      ]
     },
     "execution_count": 10,
     "metadata": {},
     "output_type": "execute_result"
    }
   ],
   "source": [
    "preds = trainer.model.predict(test_ds)\n",
    "\n",
    "pred_df = test_df[[\"eeg_id\"]].copy()\n",
    "target_cols = [x.lower()+'_vote' for x in config.class_names]\n",
    "pred_df[target_cols] = preds.tolist()\n",
    "\n",
    "sub_df = pd.read_csv(f'{BASE_PATH}/sample_submission.csv')\n",
    "sub_df = sub_df[[\"eeg_id\"]].copy()\n",
    "sub_df = sub_df.merge(pred_df, on=\"eeg_id\", how=\"left\")\n",
    "sub_df.to_csv(\"submission.csv\", index=False)\n",
    "sub_df.head()"
   ]
  },
  {
   "cell_type": "code",
   "execution_count": 11,
   "id": "f37751ac",
   "metadata": {
    "execution": {
     "iopub.execute_input": "2024-03-18T01:36:51.746132Z",
     "iopub.status.busy": "2024-03-18T01:36:51.745465Z",
     "iopub.status.idle": "2024-03-18T01:36:53.713633Z",
     "shell.execute_reply": "2024-03-18T01:36:53.712422Z"
    },
    "papermill": {
     "duration": 1.978844,
     "end_time": "2024-03-18T01:36:53.716206",
     "exception": false,
     "start_time": "2024-03-18T01:36:51.737362",
     "status": "completed"
    },
    "tags": []
   },
   "outputs": [],
   "source": [
    "import glob \n",
    "for f in glob.glob('*'):\n",
    "    if not f.startswith('subm'):\n",
    "        !rm -rf {f}"
   ]
  },
  {
   "cell_type": "code",
   "execution_count": null,
   "id": "72130a32",
   "metadata": {
    "papermill": {
     "duration": 0.007155,
     "end_time": "2024-03-18T01:36:53.730677",
     "exception": false,
     "start_time": "2024-03-18T01:36:53.723522",
     "status": "completed"
    },
    "tags": []
   },
   "outputs": [],
   "source": []
  }
 ],
 "metadata": {
  "kaggle": {
   "accelerator": "gpu",
   "dataSources": [
    {
     "databundleVersionId": 7469972,
     "sourceId": 59093,
     "sourceType": "competition"
    },
    {
     "datasetId": 4308295,
     "sourceId": 7526248,
     "sourceType": "datasetVersion"
    },
    {
     "datasetId": 4600988,
     "sourceId": 7846730,
     "sourceType": "datasetVersion"
    },
    {
     "sourceId": 167048882,
     "sourceType": "kernelVersion"
    },
    {
     "sourceId": 167317077,
     "sourceType": "kernelVersion"
    },
    {
     "modelInstanceId": 4629,
     "sourceId": 6098,
     "sourceType": "modelInstanceVersion"
    },
    {
     "modelInstanceId": 4599,
     "sourceId": 6124,
     "sourceType": "modelInstanceVersion"
    },
    {
     "modelInstanceId": 4598,
     "sourceId": 6127,
     "sourceType": "modelInstanceVersion"
    },
    {
     "modelInstanceId": 14351,
     "sourceId": 17255,
     "sourceType": "modelInstanceVersion"
    }
   ],
   "isGpuEnabled": true,
   "isInternetEnabled": false,
   "language": "python",
   "sourceType": "notebook"
  },
  "kernelspec": {
   "display_name": "Python 3",
   "language": "python",
   "name": "python3"
  },
  "language_info": {
   "codemirror_mode": {
    "name": "ipython",
    "version": 3
   },
   "file_extension": ".py",
   "mimetype": "text/x-python",
   "name": "python",
   "nbconvert_exporter": "python",
   "pygments_lexer": "ipython3",
   "version": "3.10.13"
  },
  "papermill": {
   "default_parameters": {},
   "duration": 217.994857,
   "end_time": "2024-03-18T01:36:56.458495",
   "environment_variables": {},
   "exception": null,
   "input_path": "__notebook__.ipynb",
   "output_path": "__notebook__.ipynb",
   "parameters": {},
   "start_time": "2024-03-18T01:33:18.463638",
   "version": "2.5.0"
  },
  "widgets": {
   "application/vnd.jupyter.widget-state+json": {
    "state": {
     "03c0b60a69614394bb3781c6ef02d26a": {
      "model_module": "@jupyter-widgets/controls",
      "model_module_version": "1.5.0",
      "model_name": "FloatProgressModel",
      "state": {
       "_dom_classes": [],
       "_model_module": "@jupyter-widgets/controls",
       "_model_module_version": "1.5.0",
       "_model_name": "FloatProgressModel",
       "_view_count": null,
       "_view_module": "@jupyter-widgets/controls",
       "_view_module_version": "1.5.0",
       "_view_name": "ProgressView",
       "bar_style": "success",
       "description": "",
       "description_tooltip": null,
       "layout": "IPY_MODEL_db7b022adc354d6385c8e7c5857c3054",
       "max": 1.0,
       "min": 0.0,
       "orientation": "horizontal",
       "style": "IPY_MODEL_f53fbf406ddf4039b04cc0ee1bd5c525",
       "value": 1.0
      }
     },
     "513698928f6741deb28dcf9dcc3ac122": {
      "model_module": "@jupyter-widgets/controls",
      "model_module_version": "1.5.0",
      "model_name": "HTMLModel",
      "state": {
       "_dom_classes": [],
       "_model_module": "@jupyter-widgets/controls",
       "_model_module_version": "1.5.0",
       "_model_name": "HTMLModel",
       "_view_count": null,
       "_view_module": "@jupyter-widgets/controls",
       "_view_module_version": "1.5.0",
       "_view_name": "HTMLView",
       "description": "",
       "description_tooltip": null,
       "layout": "IPY_MODEL_fcbef4932b9e4fda90ce2c66b003838f",
       "placeholder": "​",
       "style": "IPY_MODEL_5e6c6c538f0a436b9ba4096a4e6c7d65",
       "value": "100%"
      }
     },
     "5e6c6c538f0a436b9ba4096a4e6c7d65": {
      "model_module": "@jupyter-widgets/controls",
      "model_module_version": "1.5.0",
      "model_name": "DescriptionStyleModel",
      "state": {
       "_model_module": "@jupyter-widgets/controls",
       "_model_module_version": "1.5.0",
       "_model_name": "DescriptionStyleModel",
       "_view_count": null,
       "_view_module": "@jupyter-widgets/base",
       "_view_module_version": "1.2.0",
       "_view_name": "StyleView",
       "description_width": ""
      }
     },
     "94351fd1fb984000acba59b33448c313": {
      "model_module": "@jupyter-widgets/controls",
      "model_module_version": "1.5.0",
      "model_name": "DescriptionStyleModel",
      "state": {
       "_model_module": "@jupyter-widgets/controls",
       "_model_module_version": "1.5.0",
       "_model_name": "DescriptionStyleModel",
       "_view_count": null,
       "_view_module": "@jupyter-widgets/base",
       "_view_module_version": "1.2.0",
       "_view_name": "StyleView",
       "description_width": ""
      }
     },
     "990ff13271eb433fa0cedc5163a5ad0a": {
      "model_module": "@jupyter-widgets/controls",
      "model_module_version": "1.5.0",
      "model_name": "HBoxModel",
      "state": {
       "_dom_classes": [],
       "_model_module": "@jupyter-widgets/controls",
       "_model_module_version": "1.5.0",
       "_model_name": "HBoxModel",
       "_view_count": null,
       "_view_module": "@jupyter-widgets/controls",
       "_view_module_version": "1.5.0",
       "_view_name": "HBoxView",
       "box_style": "",
       "children": [
        "IPY_MODEL_513698928f6741deb28dcf9dcc3ac122",
        "IPY_MODEL_03c0b60a69614394bb3781c6ef02d26a",
        "IPY_MODEL_c600319965e7400a9864d0123396ac0e"
       ],
       "layout": "IPY_MODEL_ee0fe2ee07db4327b672cf6437ddb7fb"
      }
     },
     "a3fd59fe2fa941c1a0acfaaaab826a16": {
      "model_module": "@jupyter-widgets/base",
      "model_module_version": "1.2.0",
      "model_name": "LayoutModel",
      "state": {
       "_model_module": "@jupyter-widgets/base",
       "_model_module_version": "1.2.0",
       "_model_name": "LayoutModel",
       "_view_count": null,
       "_view_module": "@jupyter-widgets/base",
       "_view_module_version": "1.2.0",
       "_view_name": "LayoutView",
       "align_content": null,
       "align_items": null,
       "align_self": null,
       "border": null,
       "bottom": null,
       "display": null,
       "flex": null,
       "flex_flow": null,
       "grid_area": null,
       "grid_auto_columns": null,
       "grid_auto_flow": null,
       "grid_auto_rows": null,
       "grid_column": null,
       "grid_gap": null,
       "grid_row": null,
       "grid_template_areas": null,
       "grid_template_columns": null,
       "grid_template_rows": null,
       "height": null,
       "justify_content": null,
       "justify_items": null,
       "left": null,
       "margin": null,
       "max_height": null,
       "max_width": null,
       "min_height": null,
       "min_width": null,
       "object_fit": null,
       "object_position": null,
       "order": null,
       "overflow": null,
       "overflow_x": null,
       "overflow_y": null,
       "padding": null,
       "right": null,
       "top": null,
       "visibility": null,
       "width": null
      }
     },
     "c600319965e7400a9864d0123396ac0e": {
      "model_module": "@jupyter-widgets/controls",
      "model_module_version": "1.5.0",
      "model_name": "HTMLModel",
      "state": {
       "_dom_classes": [],
       "_model_module": "@jupyter-widgets/controls",
       "_model_module_version": "1.5.0",
       "_model_name": "HTMLModel",
       "_view_count": null,
       "_view_module": "@jupyter-widgets/controls",
       "_view_module_version": "1.5.0",
       "_view_name": "HTMLView",
       "description": "",
       "description_tooltip": null,
       "layout": "IPY_MODEL_a3fd59fe2fa941c1a0acfaaaab826a16",
       "placeholder": "​",
       "style": "IPY_MODEL_94351fd1fb984000acba59b33448c313",
       "value": " 1/1 [00:00&lt;00:00, 23.89it/s]"
      }
     },
     "db7b022adc354d6385c8e7c5857c3054": {
      "model_module": "@jupyter-widgets/base",
      "model_module_version": "1.2.0",
      "model_name": "LayoutModel",
      "state": {
       "_model_module": "@jupyter-widgets/base",
       "_model_module_version": "1.2.0",
       "_model_name": "LayoutModel",
       "_view_count": null,
       "_view_module": "@jupyter-widgets/base",
       "_view_module_version": "1.2.0",
       "_view_name": "LayoutView",
       "align_content": null,
       "align_items": null,
       "align_self": null,
       "border": null,
       "bottom": null,
       "display": null,
       "flex": null,
       "flex_flow": null,
       "grid_area": null,
       "grid_auto_columns": null,
       "grid_auto_flow": null,
       "grid_auto_rows": null,
       "grid_column": null,
       "grid_gap": null,
       "grid_row": null,
       "grid_template_areas": null,
       "grid_template_columns": null,
       "grid_template_rows": null,
       "height": null,
       "justify_content": null,
       "justify_items": null,
       "left": null,
       "margin": null,
       "max_height": null,
       "max_width": null,
       "min_height": null,
       "min_width": null,
       "object_fit": null,
       "object_position": null,
       "order": null,
       "overflow": null,
       "overflow_x": null,
       "overflow_y": null,
       "padding": null,
       "right": null,
       "top": null,
       "visibility": null,
       "width": null
      }
     },
     "ee0fe2ee07db4327b672cf6437ddb7fb": {
      "model_module": "@jupyter-widgets/base",
      "model_module_version": "1.2.0",
      "model_name": "LayoutModel",
      "state": {
       "_model_module": "@jupyter-widgets/base",
       "_model_module_version": "1.2.0",
       "_model_name": "LayoutModel",
       "_view_count": null,
       "_view_module": "@jupyter-widgets/base",
       "_view_module_version": "1.2.0",
       "_view_name": "LayoutView",
       "align_content": null,
       "align_items": null,
       "align_self": null,
       "border": null,
       "bottom": null,
       "display": null,
       "flex": null,
       "flex_flow": null,
       "grid_area": null,
       "grid_auto_columns": null,
       "grid_auto_flow": null,
       "grid_auto_rows": null,
       "grid_column": null,
       "grid_gap": null,
       "grid_row": null,
       "grid_template_areas": null,
       "grid_template_columns": null,
       "grid_template_rows": null,
       "height": null,
       "justify_content": null,
       "justify_items": null,
       "left": null,
       "margin": null,
       "max_height": null,
       "max_width": null,
       "min_height": null,
       "min_width": null,
       "object_fit": null,
       "object_position": null,
       "order": null,
       "overflow": null,
       "overflow_x": null,
       "overflow_y": null,
       "padding": null,
       "right": null,
       "top": null,
       "visibility": null,
       "width": null
      }
     },
     "f53fbf406ddf4039b04cc0ee1bd5c525": {
      "model_module": "@jupyter-widgets/controls",
      "model_module_version": "1.5.0",
      "model_name": "ProgressStyleModel",
      "state": {
       "_model_module": "@jupyter-widgets/controls",
       "_model_module_version": "1.5.0",
       "_model_name": "ProgressStyleModel",
       "_view_count": null,
       "_view_module": "@jupyter-widgets/base",
       "_view_module_version": "1.2.0",
       "_view_name": "StyleView",
       "bar_color": null,
       "description_width": ""
      }
     },
     "fcbef4932b9e4fda90ce2c66b003838f": {
      "model_module": "@jupyter-widgets/base",
      "model_module_version": "1.2.0",
      "model_name": "LayoutModel",
      "state": {
       "_model_module": "@jupyter-widgets/base",
       "_model_module_version": "1.2.0",
       "_model_name": "LayoutModel",
       "_view_count": null,
       "_view_module": "@jupyter-widgets/base",
       "_view_module_version": "1.2.0",
       "_view_name": "LayoutView",
       "align_content": null,
       "align_items": null,
       "align_self": null,
       "border": null,
       "bottom": null,
       "display": null,
       "flex": null,
       "flex_flow": null,
       "grid_area": null,
       "grid_auto_columns": null,
       "grid_auto_flow": null,
       "grid_auto_rows": null,
       "grid_column": null,
       "grid_gap": null,
       "grid_row": null,
       "grid_template_areas": null,
       "grid_template_columns": null,
       "grid_template_rows": null,
       "height": null,
       "justify_content": null,
       "justify_items": null,
       "left": null,
       "margin": null,
       "max_height": null,
       "max_width": null,
       "min_height": null,
       "min_width": null,
       "object_fit": null,
       "object_position": null,
       "order": null,
       "overflow": null,
       "overflow_x": null,
       "overflow_y": null,
       "padding": null,
       "right": null,
       "top": null,
       "visibility": null,
       "width": null
      }
     }
    },
    "version_major": 2,
    "version_minor": 0
   }
  }
 },
 "nbformat": 4,
 "nbformat_minor": 5
}
