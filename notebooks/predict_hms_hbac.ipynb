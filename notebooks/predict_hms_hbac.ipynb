{
 "cells": [
  {
   "cell_type": "markdown",
   "id": "17bfe874",
   "metadata": {
    "papermill": {
     "duration": 0.004351,
     "end_time": "2024-03-17T13:51:21.525659",
     "exception": false,
     "start_time": "2024-03-17T13:51:21.521308",
     "status": "completed"
    },
    "tags": []
   },
   "source": [
    "# Predict"
   ]
  },
  {
   "cell_type": "code",
   "execution_count": 1,
   "id": "fab516fc",
   "metadata": {
    "_cell_guid": "b1076dfc-b9ad-4769-8c92-a6c4dae69d19",
    "_uuid": "8f2839f25d086af736a60e9eeb907d3b93b6e0e5",
    "execution": {
     "iopub.execute_input": "2024-03-17T13:51:21.534977Z",
     "iopub.status.busy": "2024-03-17T13:51:21.534593Z",
     "iopub.status.idle": "2024-03-17T13:53:19.133034Z",
     "shell.execute_reply": "2024-03-17T13:53:19.131603Z"
    },
    "papermill": {
     "duration": 117.605885,
     "end_time": "2024-03-17T13:53:19.135592",
     "exception": false,
     "start_time": "2024-03-17T13:51:21.529707",
     "status": "completed"
    },
    "tags": []
   },
   "outputs": [
    {
     "name": "stdout",
     "output_type": "stream",
     "text": [
      "Start KerasCV\r\n",
      "End KerasCV\r\n",
      "Start TensorFlow\r\n",
      "End TensorFlow\r\n",
      "Start Keras\r\n",
      "End Keras\r\n"
     ]
    }
   ],
   "source": [
    "# Install necessary modules.\n",
    "!echo \"Start KerasCV\"\n",
    "!pip install -q /kaggle/input/kerasv3-lib-ds/keras_cv-0.8.2-py3-none-any.whl --no-deps\n",
    "!echo \"End KerasCV\"\n",
    "\n",
    "!echo \"Start TensorFlow\"\n",
    "!pip install -q /kaggle/input/kerasv3-lib-ds/tensorflow-2.15.0.post1-cp310-cp310-manylinux_2_17_x86_64.manylinux2014_x86_64.whl --no-deps\n",
    "!echo \"End TensorFlow\"\n",
    "\n",
    "!echo \"Start Keras\"\n",
    "!pip install -q /kaggle/input/kerasv3-lib-ds/keras-3.0.4-py3-none-any.whl --no-deps\n",
    "!echo \"End Keras\""
   ]
  },
  {
   "cell_type": "code",
   "execution_count": 2,
   "id": "2c46e7c7",
   "metadata": {
    "execution": {
     "iopub.execute_input": "2024-03-17T13:53:19.146269Z",
     "iopub.status.busy": "2024-03-17T13:53:19.145924Z",
     "iopub.status.idle": "2024-03-17T13:53:57.513795Z",
     "shell.execute_reply": "2024-03-17T13:53:57.512805Z"
    },
    "papermill": {
     "duration": 38.375717,
     "end_time": "2024-03-17T13:53:57.516170",
     "exception": false,
     "start_time": "2024-03-17T13:53:19.140453",
     "status": "completed"
    },
    "tags": []
   },
   "outputs": [
    {
     "name": "stderr",
     "output_type": "stream",
     "text": [
      "2024-03-17 13:53:24.552881: E external/local_xla/xla/stream_executor/cuda/cuda_dnn.cc:9261] Unable to register cuDNN factory: Attempting to register factory for plugin cuDNN when one has already been registered\n",
      "2024-03-17 13:53:24.552938: E external/local_xla/xla/stream_executor/cuda/cuda_fft.cc:607] Unable to register cuFFT factory: Attempting to register factory for plugin cuFFT when one has already been registered\n",
      "2024-03-17 13:53:24.554419: E external/local_xla/xla/stream_executor/cuda/cuda_blas.cc:1515] Unable to register cuBLAS factory: Attempting to register factory for plugin cuBLAS when one has already been registered\n",
      "Attaching 'config.json' from model 'keras/efficientnetv2/keras/efficientnetv2_s_imagenet/2' to your Kaggle notebook...\n",
      "Attaching 'config.json' from model 'keras/efficientnetv2/keras/efficientnetv2_s_imagenet/2' to your Kaggle notebook...\n",
      "Attaching 'model.weights.h5' from model 'keras/efficientnetv2/keras/efficientnetv2_s_imagenet/2' to your Kaggle notebook...\n"
     ]
    }
   ],
   "source": [
    "import os\n",
    "os.environ[\"KERAS_BACKEND\"] = \"jax\" # you can also use tensorflow or torch\n",
    "\n",
    "import matplotlib.pyplot as plt\n",
    "import numpy as np\n",
    "import pandas as pd\n",
    "\n",
    "from config_hms_hbac import Config\n",
    "from data_handler_hms_hbac import DataHandler\n",
    "from trainer_hms_hbac import Trainer"
   ]
  },
  {
   "cell_type": "code",
   "execution_count": 3,
   "id": "779be303",
   "metadata": {
    "execution": {
     "iopub.execute_input": "2024-03-17T13:53:57.526783Z",
     "iopub.status.busy": "2024-03-17T13:53:57.526458Z",
     "iopub.status.idle": "2024-03-17T13:53:57.531483Z",
     "shell.execute_reply": "2024-03-17T13:53:57.530520Z"
    },
    "papermill": {
     "duration": 0.012796,
     "end_time": "2024-03-17T13:53:57.533677",
     "exception": false,
     "start_time": "2024-03-17T13:53:57.520881",
     "status": "completed"
    },
    "tags": []
   },
   "outputs": [],
   "source": [
    "# https://keras.io/api/keras_cv/models/tasks/image_classifier/\n",
    "config = Config(pretrained_model=\"efficientnetv2_s_imagenet\",\n",
    "                image_size=[400, 300],\n",
    "                epochs=100,\n",
    "                batch_size=32,\n",
    "                lr_mode=\"cos\")"
   ]
  },
  {
   "cell_type": "code",
   "execution_count": 4,
   "id": "0c81d73a",
   "metadata": {
    "execution": {
     "iopub.execute_input": "2024-03-17T13:53:57.543669Z",
     "iopub.status.busy": "2024-03-17T13:53:57.543373Z",
     "iopub.status.idle": "2024-03-17T13:54:01.882433Z",
     "shell.execute_reply": "2024-03-17T13:54:01.881487Z"
    },
    "papermill": {
     "duration": 4.346886,
     "end_time": "2024-03-17T13:54:01.884861",
     "exception": false,
     "start_time": "2024-03-17T13:53:57.537975",
     "status": "completed"
    },
    "tags": []
   },
   "outputs": [],
   "source": [
    "data_handler = DataHandler(config)\n",
    "data_handler.run(True)"
   ]
  },
  {
   "cell_type": "code",
   "execution_count": 5,
   "id": "130eba04",
   "metadata": {
    "execution": {
     "iopub.execute_input": "2024-03-17T13:54:01.896050Z",
     "iopub.status.busy": "2024-03-17T13:54:01.895281Z",
     "iopub.status.idle": "2024-03-17T13:54:08.750440Z",
     "shell.execute_reply": "2024-03-17T13:54:08.749361Z"
    },
    "papermill": {
     "duration": 6.863014,
     "end_time": "2024-03-17T13:54:08.752753",
     "exception": false,
     "start_time": "2024-03-17T13:54:01.889739",
     "status": "completed"
    },
    "tags": []
   },
   "outputs": [
    {
     "name": "stderr",
     "output_type": "stream",
     "text": [
      "Attaching 'config.json' from model 'keras/efficientnetv2/keras/efficientnetv2_s_imagenet/2' to your Kaggle notebook...\n",
      "Attaching 'config.json' from model 'keras/efficientnetv2/keras/efficientnetv2_s_imagenet/2' to your Kaggle notebook...\n",
      "Attaching 'model.weights.h5' from model 'keras/efficientnetv2/keras/efficientnetv2_s_imagenet/2' to your Kaggle notebook...\n"
     ]
    },
    {
     "data": {
      "text/html": [
       "<pre style=\"white-space:pre;overflow-x:auto;line-height:normal;font-family:Menlo,'DejaVu Sans Mono',consolas,'Courier New',monospace\"><span style=\"font-weight: bold\">Model: \"image_classifier_1\"</span>\n",
       "</pre>\n"
      ],
      "text/plain": [
       "\u001b[1mModel: \"image_classifier_1\"\u001b[0m\n"
      ]
     },
     "metadata": {},
     "output_type": "display_data"
    },
    {
     "data": {
      "text/html": [
       "<pre style=\"white-space:pre;overflow-x:auto;line-height:normal;font-family:Menlo,'DejaVu Sans Mono',consolas,'Courier New',monospace\">┏━━━━━━━━━━━━━━━━━━━━━━━━━━━━━━━━━┳━━━━━━━━━━━━━━━━━━━━━━━━━━━┳━━━━━━━━━━━━┓\n",
       "┃<span style=\"font-weight: bold\"> Layer (type)                    </span>┃<span style=\"font-weight: bold\"> Output Shape              </span>┃<span style=\"font-weight: bold\">    Param # </span>┃\n",
       "┡━━━━━━━━━━━━━━━━━━━━━━━━━━━━━━━━━╇━━━━━━━━━━━━━━━━━━━━━━━━━━━╇━━━━━━━━━━━━┩\n",
       "│ input_layer_1 (<span style=\"color: #0087ff; text-decoration-color: #0087ff\">InputLayer</span>)      │ (<span style=\"color: #00d7ff; text-decoration-color: #00d7ff\">None</span>, <span style=\"color: #00d7ff; text-decoration-color: #00d7ff\">None</span>, <span style=\"color: #00d7ff; text-decoration-color: #00d7ff\">None</span>, <span style=\"color: #00af00; text-decoration-color: #00af00\">3</span>)     │          <span style=\"color: #00af00; text-decoration-color: #00af00\">0</span> │\n",
       "├─────────────────────────────────┼───────────────────────────┼────────────┤\n",
       "│ efficient_net_v2s_backbone      │ (<span style=\"color: #00d7ff; text-decoration-color: #00d7ff\">None</span>, <span style=\"color: #00d7ff; text-decoration-color: #00d7ff\">None</span>, <span style=\"color: #00d7ff; text-decoration-color: #00d7ff\">None</span>, <span style=\"color: #00af00; text-decoration-color: #00af00\">1280</span>)  │ <span style=\"color: #00af00; text-decoration-color: #00af00\">20,331,360</span> │\n",
       "│ (<span style=\"color: #0087ff; text-decoration-color: #0087ff\">EfficientNetV2Backbone</span>)        │                           │            │\n",
       "├─────────────────────────────────┼───────────────────────────┼────────────┤\n",
       "│ avg_pool                        │ (<span style=\"color: #00d7ff; text-decoration-color: #00d7ff\">None</span>, <span style=\"color: #00af00; text-decoration-color: #00af00\">1280</span>)              │          <span style=\"color: #00af00; text-decoration-color: #00af00\">0</span> │\n",
       "│ (<span style=\"color: #0087ff; text-decoration-color: #0087ff\">GlobalAveragePooling2D</span>)        │                           │            │\n",
       "├─────────────────────────────────┼───────────────────────────┼────────────┤\n",
       "│ predictions (<span style=\"color: #0087ff; text-decoration-color: #0087ff\">Dense</span>)             │ (<span style=\"color: #00d7ff; text-decoration-color: #00d7ff\">None</span>, <span style=\"color: #00af00; text-decoration-color: #00af00\">6</span>)                 │      <span style=\"color: #00af00; text-decoration-color: #00af00\">7,686</span> │\n",
       "└─────────────────────────────────┴───────────────────────────┴────────────┘\n",
       "</pre>\n"
      ],
      "text/plain": [
       "┏━━━━━━━━━━━━━━━━━━━━━━━━━━━━━━━━━┳━━━━━━━━━━━━━━━━━━━━━━━━━━━┳━━━━━━━━━━━━┓\n",
       "┃\u001b[1m \u001b[0m\u001b[1mLayer (type)                   \u001b[0m\u001b[1m \u001b[0m┃\u001b[1m \u001b[0m\u001b[1mOutput Shape             \u001b[0m\u001b[1m \u001b[0m┃\u001b[1m \u001b[0m\u001b[1m   Param #\u001b[0m\u001b[1m \u001b[0m┃\n",
       "┡━━━━━━━━━━━━━━━━━━━━━━━━━━━━━━━━━╇━━━━━━━━━━━━━━━━━━━━━━━━━━━╇━━━━━━━━━━━━┩\n",
       "│ input_layer_1 (\u001b[38;5;33mInputLayer\u001b[0m)      │ (\u001b[38;5;45mNone\u001b[0m, \u001b[38;5;45mNone\u001b[0m, \u001b[38;5;45mNone\u001b[0m, \u001b[38;5;34m3\u001b[0m)     │          \u001b[38;5;34m0\u001b[0m │\n",
       "├─────────────────────────────────┼───────────────────────────┼────────────┤\n",
       "│ efficient_net_v2s_backbone      │ (\u001b[38;5;45mNone\u001b[0m, \u001b[38;5;45mNone\u001b[0m, \u001b[38;5;45mNone\u001b[0m, \u001b[38;5;34m1280\u001b[0m)  │ \u001b[38;5;34m20,331,360\u001b[0m │\n",
       "│ (\u001b[38;5;33mEfficientNetV2Backbone\u001b[0m)        │                           │            │\n",
       "├─────────────────────────────────┼───────────────────────────┼────────────┤\n",
       "│ avg_pool                        │ (\u001b[38;5;45mNone\u001b[0m, \u001b[38;5;34m1280\u001b[0m)              │          \u001b[38;5;34m0\u001b[0m │\n",
       "│ (\u001b[38;5;33mGlobalAveragePooling2D\u001b[0m)        │                           │            │\n",
       "├─────────────────────────────────┼───────────────────────────┼────────────┤\n",
       "│ predictions (\u001b[38;5;33mDense\u001b[0m)             │ (\u001b[38;5;45mNone\u001b[0m, \u001b[38;5;34m6\u001b[0m)                 │      \u001b[38;5;34m7,686\u001b[0m │\n",
       "└─────────────────────────────────┴───────────────────────────┴────────────┘\n"
      ]
     },
     "metadata": {},
     "output_type": "display_data"
    },
    {
     "data": {
      "text/html": [
       "<pre style=\"white-space:pre;overflow-x:auto;line-height:normal;font-family:Menlo,'DejaVu Sans Mono',consolas,'Courier New',monospace\"><span style=\"font-weight: bold\"> Total params: </span><span style=\"color: #00af00; text-decoration-color: #00af00\">20,339,046</span> (77.59 MB)\n",
       "</pre>\n"
      ],
      "text/plain": [
       "\u001b[1m Total params: \u001b[0m\u001b[38;5;34m20,339,046\u001b[0m (77.59 MB)\n"
      ]
     },
     "metadata": {},
     "output_type": "display_data"
    },
    {
     "data": {
      "text/html": [
       "<pre style=\"white-space:pre;overflow-x:auto;line-height:normal;font-family:Menlo,'DejaVu Sans Mono',consolas,'Courier New',monospace\"><span style=\"font-weight: bold\"> Trainable params: </span><span style=\"color: #00af00; text-decoration-color: #00af00\">20,185,174</span> (77.00 MB)\n",
       "</pre>\n"
      ],
      "text/plain": [
       "\u001b[1m Trainable params: \u001b[0m\u001b[38;5;34m20,185,174\u001b[0m (77.00 MB)\n"
      ]
     },
     "metadata": {},
     "output_type": "display_data"
    },
    {
     "data": {
      "text/html": [
       "<pre style=\"white-space:pre;overflow-x:auto;line-height:normal;font-family:Menlo,'DejaVu Sans Mono',consolas,'Courier New',monospace\"><span style=\"font-weight: bold\"> Non-trainable params: </span><span style=\"color: #00af00; text-decoration-color: #00af00\">153,872</span> (601.06 KB)\n",
       "</pre>\n"
      ],
      "text/plain": [
       "\u001b[1m Non-trainable params: \u001b[0m\u001b[38;5;34m153,872\u001b[0m (601.06 KB)\n"
      ]
     },
     "metadata": {},
     "output_type": "display_data"
    }
   ],
   "source": [
    "trainer = Trainer(config)\n",
    "\n",
    "trainer.set_model()\n",
    "trainer.compile_model()\n",
    "trainer.show_model_summary()"
   ]
  },
  {
   "cell_type": "code",
   "execution_count": 6,
   "id": "e8cd5e9f",
   "metadata": {
    "execution": {
     "iopub.execute_input": "2024-03-17T13:54:08.766122Z",
     "iopub.status.busy": "2024-03-17T13:54:08.765817Z",
     "iopub.status.idle": "2024-03-17T13:54:08.772016Z",
     "shell.execute_reply": "2024-03-17T13:54:08.771148Z"
    },
    "papermill": {
     "duration": 0.015556,
     "end_time": "2024-03-17T13:54:08.774284",
     "exception": false,
     "start_time": "2024-03-17T13:54:08.758728",
     "status": "completed"
    },
    "tags": []
   },
   "outputs": [
    {
     "data": {
      "text/plain": [
       "[<keras.src.callbacks.model_checkpoint.ModelCheckpoint at 0x7c795172e200>,\n",
       " <keras.src.callbacks.early_stopping.EarlyStopping at 0x7c795172caf0>,\n",
       " <keras.src.callbacks.learning_rate_scheduler.LearningRateScheduler at 0x7c795172f4f0>]"
      ]
     },
     "execution_count": 6,
     "metadata": {},
     "output_type": "execute_result"
    }
   ],
   "source": [
    "trainer.set_callbacks()\n",
    "trainer.callbacks"
   ]
  },
  {
   "cell_type": "code",
   "execution_count": 7,
   "id": "c3006393",
   "metadata": {
    "execution": {
     "iopub.execute_input": "2024-03-17T13:54:08.787513Z",
     "iopub.status.busy": "2024-03-17T13:54:08.787208Z",
     "iopub.status.idle": "2024-03-17T13:55:01.898522Z",
     "shell.execute_reply": "2024-03-17T13:55:01.897461Z"
    },
    "papermill": {
     "duration": 53.120548,
     "end_time": "2024-03-17T13:55:01.900843",
     "exception": false,
     "start_time": "2024-03-17T13:54:08.780295",
     "status": "completed"
    },
    "tags": []
   },
   "outputs": [
    {
     "name": "stderr",
     "output_type": "stream",
     "text": [
      "/opt/conda/lib/python3.10/site-packages/keras/src/saving/saving_lib.py:394: UserWarning: Skipping variable loading for optimizer 'adam', because it has 2 variables whereas the saved optimizer has 906 variables. \n",
      "  trackable.load_own_variables(weights_store.get(inner_path))\n"
     ]
    },
    {
     "name": "stdout",
     "output_type": "stream",
     "text": [
      "\u001b[1m1/1\u001b[0m \u001b[32m━━━━━━━━━━━━━━━━━━━━\u001b[0m\u001b[37m\u001b[0m \u001b[1m12s\u001b[0m 12s/step\n"
     ]
    },
    {
     "data": {
      "text/html": [
       "<div>\n",
       "<style scoped>\n",
       "    .dataframe tbody tr th:only-of-type {\n",
       "        vertical-align: middle;\n",
       "    }\n",
       "\n",
       "    .dataframe tbody tr th {\n",
       "        vertical-align: top;\n",
       "    }\n",
       "\n",
       "    .dataframe thead th {\n",
       "        text-align: right;\n",
       "    }\n",
       "</style>\n",
       "<table border=\"1\" class=\"dataframe\">\n",
       "  <thead>\n",
       "    <tr style=\"text-align: right;\">\n",
       "      <th></th>\n",
       "      <th>eeg_id</th>\n",
       "      <th>seizure_vote</th>\n",
       "      <th>lpd_vote</th>\n",
       "      <th>gpd_vote</th>\n",
       "      <th>lrda_vote</th>\n",
       "      <th>grda_vote</th>\n",
       "      <th>other_vote</th>\n",
       "    </tr>\n",
       "  </thead>\n",
       "  <tbody>\n",
       "    <tr>\n",
       "      <th>0</th>\n",
       "      <td>3911565283</td>\n",
       "      <td>0.057715</td>\n",
       "      <td>0.016063</td>\n",
       "      <td>0.006033</td>\n",
       "      <td>0.150443</td>\n",
       "      <td>0.606327</td>\n",
       "      <td>0.163419</td>\n",
       "    </tr>\n",
       "  </tbody>\n",
       "</table>\n",
       "</div>"
      ],
      "text/plain": [
       "       eeg_id  seizure_vote  lpd_vote  gpd_vote  lrda_vote  grda_vote  \\\n",
       "0  3911565283      0.057715  0.016063  0.006033   0.150443   0.606327   \n",
       "\n",
       "   other_vote  \n",
       "0    0.163419  "
      ]
     },
     "execution_count": 7,
     "metadata": {},
     "output_type": "execute_result"
    }
   ],
   "source": [
    "model_path = \"/kaggle/input/hms_hbac/keras/test/1/20240316_efficientnetv2_s_imagenet.keras\"\n",
    "trainer.model.load_weights(model_path)\n",
    "\n",
    "preds = trainer.model.predict(data_handler.test_ds)\n",
    "\n",
    "pred_df = data_handler.test_df[[\"eeg_id\"]].copy()\n",
    "target_cols = [x.lower()+'_vote' for x in config.class_names]\n",
    "pred_df[target_cols] = preds.tolist()\n",
    "\n",
    "sub_df = pd.read_csv(f'{data_handler.base_path}/sample_submission.csv')\n",
    "sub_df = sub_df[[\"eeg_id\"]].copy()\n",
    "sub_df = sub_df.merge(pred_df, on=\"eeg_id\", how=\"left\")\n",
    "sub_df.to_csv(\"submission.csv\", index=False)\n",
    "sub_df.head()"
   ]
  },
  {
   "cell_type": "code",
   "execution_count": null,
   "id": "c1caf827",
   "metadata": {
    "papermill": {
     "duration": 0.005852,
     "end_time": "2024-03-17T13:55:01.913834",
     "exception": false,
     "start_time": "2024-03-17T13:55:01.907982",
     "status": "completed"
    },
    "tags": []
   },
   "outputs": [],
   "source": []
  },
  {
   "cell_type": "code",
   "execution_count": null,
   "id": "357a0bdf",
   "metadata": {
    "papermill": {
     "duration": 0.007629,
     "end_time": "2024-03-17T13:55:01.927726",
     "exception": false,
     "start_time": "2024-03-17T13:55:01.920097",
     "status": "completed"
    },
    "tags": []
   },
   "outputs": [],
   "source": []
  }
 ],
 "metadata": {
  "kaggle": {
   "accelerator": "gpu",
   "dataSources": [
    {
     "databundleVersionId": 7469972,
     "sourceId": 59093,
     "sourceType": "competition"
    },
    {
     "databundleVersionId": 7951142,
     "datasetId": 4600988,
     "sourceId": 7846730,
     "sourceType": "datasetVersion"
    },
    {
     "databundleVersionId": 7619975,
     "datasetId": 4308295,
     "sourceId": 7526248,
     "sourceType": "datasetVersion"
    },
    {
     "databundleVersionId": 7429410,
     "modelInstanceId": 4599,
     "sourceId": 6124,
     "sourceType": "modelInstanceVersion"
    },
    {
     "databundleVersionId": 7972663,
     "modelInstanceId": 14351,
     "sourceId": 17229,
     "sourceType": "modelInstanceVersion"
    },
    {
     "sourceId": 167048882,
     "sourceType": "kernelVersion"
    },
    {
     "sourceId": 167228599,
     "sourceType": "kernelVersion"
    },
    {
     "sourceId": 167317077,
     "sourceType": "kernelVersion"
    }
   ],
   "isGpuEnabled": true,
   "isInternetEnabled": false,
   "language": "python",
   "sourceType": "notebook"
  },
  "kernelspec": {
   "display_name": "Python 3",
   "language": "python",
   "name": "python3"
  },
  "language_info": {
   "codemirror_mode": {
    "name": "ipython",
    "version": 3
   },
   "file_extension": ".py",
   "mimetype": "text/x-python",
   "name": "python",
   "nbconvert_exporter": "python",
   "pygments_lexer": "ipython3",
   "version": "3.10.13"
  },
  "papermill": {
   "default_parameters": {},
   "duration": 226.370088,
   "end_time": "2024-03-17T13:55:04.883421",
   "environment_variables": {},
   "exception": null,
   "input_path": "__notebook__.ipynb",
   "output_path": "__notebook__.ipynb",
   "parameters": {},
   "start_time": "2024-03-17T13:51:18.513333",
   "version": "2.5.0"
  }
 },
 "nbformat": 4,
 "nbformat_minor": 5
}
