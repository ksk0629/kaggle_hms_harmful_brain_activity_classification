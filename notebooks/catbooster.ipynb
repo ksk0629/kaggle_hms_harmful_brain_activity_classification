{
 "cells": [
  {
   "cell_type": "markdown",
   "id": "d5ac4911",
   "metadata": {
    "papermill": {
     "duration": 0.008046,
     "end_time": "2024-01-22T21:58:56.702691",
     "exception": false,
     "start_time": "2024-01-22T21:58:56.694645",
     "status": "completed"
    },
    "tags": []
   },
   "source": [
    "# Catbooster"
   ]
  },
  {
   "cell_type": "markdown",
   "id": "1331eca7",
   "metadata": {
    "papermill": {
     "duration": 0.007304,
     "end_time": "2024-01-22T21:58:56.717876",
     "exception": false,
     "start_time": "2024-01-22T21:58:56.710572",
     "status": "completed"
    },
    "tags": []
   },
   "source": [
    "## Environment settings"
   ]
  },
  {
   "cell_type": "code",
   "execution_count": 1,
   "id": "85f302dd",
   "metadata": {
    "execution": {
     "iopub.execute_input": "2024-01-22T21:58:56.734114Z",
     "iopub.status.busy": "2024-01-22T21:58:56.733835Z",
     "iopub.status.idle": "2024-01-22T21:58:56.781724Z",
     "shell.execute_reply": "2024-01-22T21:58:56.780786Z"
    },
    "papermill": {
     "duration": 0.058249,
     "end_time": "2024-01-22T21:58:56.783706",
     "exception": false,
     "start_time": "2024-01-22T21:58:56.725457",
     "status": "completed"
    },
    "tags": []
   },
   "outputs": [
    {
     "name": "stdout",
     "output_type": "stream",
     "text": [
      "is_kaggle: True\n",
      "is_colab: False\n"
     ]
    }
   ],
   "source": [
    "import os\n",
    "import sys\n",
    "\n",
    "# Define dataset names.\n",
    "dataset_name = \"hms-harmful-brain-activity-classification\"\n",
    "addition_dataset = \"brain-spectrograms\"\n",
    "\n",
    "# Set up for Kaggle.\n",
    "is_kaggle = \"KAGGLE_URL_BASE\" in set(os.environ.keys())\n",
    "\n",
    "# Set-up for Google Colab.\n",
    "is_colab = True if \"google.colab\" in sys.modules else False\n",
    "\n",
    "if is_colab:\n",
    "    # Mount Google Drive if it is running on Google Colab.\n",
    "    from google.colab import drive\n",
    "    drive.mount(\"/content/drive\")\n",
    "\n",
    "    # Get my kaggle API roken.\n",
    "    !mkdir -p /root/.kaggle\n",
    "    !cp /content/drive/MyDrive/.kaggle/kaggle.json /root/.kaggle/\n",
    "    !chmod 600 /root/.kaggle/kaggle.json\n",
    "\n",
    "    # Prepare for dataset.\n",
    "    !pip install kaggle\n",
    "    !apt install unzip\n",
    "    !mkdir input output\n",
    "    \n",
    "    # Get datasets.\n",
    "    !kaggle competitions download -c {dataset_name}\n",
    "    !unzip -o {dataset_name}.zip -d input/{dataset_name}\n",
    "    !rm -r {dataset_name}.zip\n",
    "\n",
    "    !kaggle datasets download -d cdeotte/{additional_dataset}\n",
    "    !unzip -o {additional_dataset}.zip -d input/{additional_dataset}\n",
    "    !rm -r cdeotte/{additional_dataset}\n",
    "    \n",
    "    # Install nucessary packages.\n",
    "    !pip install catboost\n",
    "\n",
    "print(f\"is_kaggle: {is_kaggle}\")\n",
    "print(f\"is_colab: {is_colab}\")"
   ]
  },
  {
   "cell_type": "code",
   "execution_count": 2,
   "id": "a4f093ea",
   "metadata": {
    "execution": {
     "iopub.execute_input": "2024-01-22T21:58:56.800319Z",
     "iopub.status.busy": "2024-01-22T21:58:56.800084Z",
     "iopub.status.idle": "2024-01-22T21:58:57.601978Z",
     "shell.execute_reply": "2024-01-22T21:58:57.601106Z"
    },
    "papermill": {
     "duration": 0.813226,
     "end_time": "2024-01-22T21:58:57.604693",
     "exception": false,
     "start_time": "2024-01-22T21:58:56.791467",
     "status": "completed"
    },
    "tags": []
   },
   "outputs": [],
   "source": [
    "# Load libraries.\n",
    "os.environ['CUDA_VISIBLE_DEVICES'] = \"0, 1\"\n",
    "import pandas as pd, numpy as np\n",
    "import matplotlib.pyplot as plt"
   ]
  },
  {
   "cell_type": "code",
   "execution_count": 3,
   "id": "7cf15ce7",
   "metadata": {
    "execution": {
     "iopub.execute_input": "2024-01-22T21:58:57.623773Z",
     "iopub.status.busy": "2024-01-22T21:58:57.623329Z",
     "iopub.status.idle": "2024-01-22T21:58:57.627698Z",
     "shell.execute_reply": "2024-01-22T21:58:57.626843Z"
    },
    "papermill": {
     "duration": 0.015839,
     "end_time": "2024-01-22T21:58:57.629724",
     "exception": false,
     "start_time": "2024-01-22T21:58:57.613885",
     "status": "completed"
    },
    "tags": []
   },
   "outputs": [],
   "source": [
    "model_name = \"catboost_1.json\"\n",
    "\n",
    "model_path = f\"/kaggle/working/{model_name}\""
   ]
  },
  {
   "cell_type": "markdown",
   "id": "bf6084bf",
   "metadata": {
    "papermill": {
     "duration": 0.007623,
     "end_time": "2024-01-22T21:58:57.645076",
     "exception": false,
     "start_time": "2024-01-22T21:58:57.637453",
     "status": "completed"
    },
    "tags": []
   },
   "source": [
    "## Train data preparation"
   ]
  },
  {
   "cell_type": "code",
   "execution_count": 4,
   "id": "9d0d9a8e",
   "metadata": {
    "execution": {
     "iopub.execute_input": "2024-01-22T21:58:57.661584Z",
     "iopub.status.busy": "2024-01-22T21:58:57.661264Z",
     "iopub.status.idle": "2024-01-22T21:58:57.917532Z",
     "shell.execute_reply": "2024-01-22T21:58:57.916558Z"
    },
    "papermill": {
     "duration": 0.266818,
     "end_time": "2024-01-22T21:58:57.919654",
     "exception": false,
     "start_time": "2024-01-22T21:58:57.652836",
     "status": "completed"
    },
    "tags": []
   },
   "outputs": [
    {
     "name": "stdout",
     "output_type": "stream",
     "text": [
      "Train csv path: /kaggle/input/hms-harmful-brain-activity-classification/train.csv\n",
      "Train shape:  (106800, 15)\n",
      "Targets:  ['seizure_vote', 'lpd_vote', 'gpd_vote', 'lrda_vote', 'grda_vote', 'other_vote']\n"
     ]
    },
    {
     "data": {
      "text/html": [
       "<div>\n",
       "<style scoped>\n",
       "    .dataframe tbody tr th:only-of-type {\n",
       "        vertical-align: middle;\n",
       "    }\n",
       "\n",
       "    .dataframe tbody tr th {\n",
       "        vertical-align: top;\n",
       "    }\n",
       "\n",
       "    .dataframe thead th {\n",
       "        text-align: right;\n",
       "    }\n",
       "</style>\n",
       "<table border=\"1\" class=\"dataframe\">\n",
       "  <thead>\n",
       "    <tr style=\"text-align: right;\">\n",
       "      <th></th>\n",
       "      <th>eeg_id</th>\n",
       "      <th>eeg_sub_id</th>\n",
       "      <th>eeg_label_offset_seconds</th>\n",
       "      <th>spectrogram_id</th>\n",
       "      <th>spectrogram_sub_id</th>\n",
       "      <th>spectrogram_label_offset_seconds</th>\n",
       "      <th>label_id</th>\n",
       "      <th>patient_id</th>\n",
       "      <th>expert_consensus</th>\n",
       "      <th>seizure_vote</th>\n",
       "      <th>lpd_vote</th>\n",
       "      <th>gpd_vote</th>\n",
       "      <th>lrda_vote</th>\n",
       "      <th>grda_vote</th>\n",
       "      <th>other_vote</th>\n",
       "    </tr>\n",
       "  </thead>\n",
       "  <tbody>\n",
       "    <tr>\n",
       "      <th>0</th>\n",
       "      <td>1628180742</td>\n",
       "      <td>0</td>\n",
       "      <td>0.0</td>\n",
       "      <td>353733</td>\n",
       "      <td>0</td>\n",
       "      <td>0.0</td>\n",
       "      <td>127492639</td>\n",
       "      <td>42516</td>\n",
       "      <td>Seizure</td>\n",
       "      <td>3</td>\n",
       "      <td>0</td>\n",
       "      <td>0</td>\n",
       "      <td>0</td>\n",
       "      <td>0</td>\n",
       "      <td>0</td>\n",
       "    </tr>\n",
       "    <tr>\n",
       "      <th>1</th>\n",
       "      <td>1628180742</td>\n",
       "      <td>1</td>\n",
       "      <td>6.0</td>\n",
       "      <td>353733</td>\n",
       "      <td>1</td>\n",
       "      <td>6.0</td>\n",
       "      <td>3887563113</td>\n",
       "      <td>42516</td>\n",
       "      <td>Seizure</td>\n",
       "      <td>3</td>\n",
       "      <td>0</td>\n",
       "      <td>0</td>\n",
       "      <td>0</td>\n",
       "      <td>0</td>\n",
       "      <td>0</td>\n",
       "    </tr>\n",
       "    <tr>\n",
       "      <th>2</th>\n",
       "      <td>1628180742</td>\n",
       "      <td>2</td>\n",
       "      <td>8.0</td>\n",
       "      <td>353733</td>\n",
       "      <td>2</td>\n",
       "      <td>8.0</td>\n",
       "      <td>1142670488</td>\n",
       "      <td>42516</td>\n",
       "      <td>Seizure</td>\n",
       "      <td>3</td>\n",
       "      <td>0</td>\n",
       "      <td>0</td>\n",
       "      <td>0</td>\n",
       "      <td>0</td>\n",
       "      <td>0</td>\n",
       "    </tr>\n",
       "    <tr>\n",
       "      <th>3</th>\n",
       "      <td>1628180742</td>\n",
       "      <td>3</td>\n",
       "      <td>18.0</td>\n",
       "      <td>353733</td>\n",
       "      <td>3</td>\n",
       "      <td>18.0</td>\n",
       "      <td>2718991173</td>\n",
       "      <td>42516</td>\n",
       "      <td>Seizure</td>\n",
       "      <td>3</td>\n",
       "      <td>0</td>\n",
       "      <td>0</td>\n",
       "      <td>0</td>\n",
       "      <td>0</td>\n",
       "      <td>0</td>\n",
       "    </tr>\n",
       "    <tr>\n",
       "      <th>4</th>\n",
       "      <td>1628180742</td>\n",
       "      <td>4</td>\n",
       "      <td>24.0</td>\n",
       "      <td>353733</td>\n",
       "      <td>4</td>\n",
       "      <td>24.0</td>\n",
       "      <td>3080632009</td>\n",
       "      <td>42516</td>\n",
       "      <td>Seizure</td>\n",
       "      <td>3</td>\n",
       "      <td>0</td>\n",
       "      <td>0</td>\n",
       "      <td>0</td>\n",
       "      <td>0</td>\n",
       "      <td>0</td>\n",
       "    </tr>\n",
       "  </tbody>\n",
       "</table>\n",
       "</div>"
      ],
      "text/plain": [
       "       eeg_id  eeg_sub_id  eeg_label_offset_seconds  spectrogram_id  \\\n",
       "0  1628180742           0                       0.0          353733   \n",
       "1  1628180742           1                       6.0          353733   \n",
       "2  1628180742           2                       8.0          353733   \n",
       "3  1628180742           3                      18.0          353733   \n",
       "4  1628180742           4                      24.0          353733   \n",
       "\n",
       "   spectrogram_sub_id  spectrogram_label_offset_seconds    label_id  \\\n",
       "0                   0                               0.0   127492639   \n",
       "1                   1                               6.0  3887563113   \n",
       "2                   2                               8.0  1142670488   \n",
       "3                   3                              18.0  2718991173   \n",
       "4                   4                              24.0  3080632009   \n",
       "\n",
       "   patient_id expert_consensus  seizure_vote  lpd_vote  gpd_vote  lrda_vote  \\\n",
       "0       42516          Seizure             3         0         0          0   \n",
       "1       42516          Seizure             3         0         0          0   \n",
       "2       42516          Seizure             3         0         0          0   \n",
       "3       42516          Seizure             3         0         0          0   \n",
       "4       42516          Seizure             3         0         0          0   \n",
       "\n",
       "   grda_vote  other_vote  \n",
       "0          0           0  \n",
       "1          0           0  \n",
       "2          0           0  \n",
       "3          0           0  \n",
       "4          0           0  "
      ]
     },
     "execution_count": 4,
     "metadata": {},
     "output_type": "execute_result"
    }
   ],
   "source": [
    "if is_kaggle:\n",
    "    train_csv_path = \"/kaggle/input/hms-harmful-brain-activity-classification/train.csv\"\n",
    "elif is_colab:\n",
    "    train_csv_path = f\"input/{dataset_name}/train.csv\"\n",
    "else:\n",
    "    train_csv_path = \"./../data/input/train.csv\"\n",
    "    \n",
    "print(f\"Train csv path: {train_csv_path}\")\n",
    "\n",
    "train_df = pd.read_csv(train_csv_path)\n",
    "targets = train_df.columns[-6:]\n",
    "\n",
    "print(\"Train shape: \", train_df.shape)\n",
    "print(\"Targets: \", list(targets))\n",
    "\n",
    "train_df.head()"
   ]
  },
  {
   "cell_type": "markdown",
   "id": "e548ceb7",
   "metadata": {
    "papermill": {
     "duration": 0.008755,
     "end_time": "2024-01-22T21:58:57.936629",
     "exception": false,
     "start_time": "2024-01-22T21:58:57.927874",
     "status": "completed"
    },
    "tags": []
   },
   "source": [
    "### Create Non-Overlapping Eeg Id Train Data\n",
    "\n",
    "The competition data description says that test data does not have multiple crops from the same eeg_id. Therefore we will train and validate using only 1 crop per eeg_id. There is a discussion about this [discussion](https://www.kaggle.com/competitions/hms-harmful-brain-activity-classification/discussion/467021).\n"
   ]
  },
  {
   "cell_type": "code",
   "execution_count": 5,
   "id": "e098bc60",
   "metadata": {
    "execution": {
     "iopub.execute_input": "2024-01-22T21:58:57.953794Z",
     "iopub.status.busy": "2024-01-22T21:58:57.953462Z",
     "iopub.status.idle": "2024-01-22T21:58:57.959620Z",
     "shell.execute_reply": "2024-01-22T21:58:57.958819Z"
    },
    "papermill": {
     "duration": 0.01679,
     "end_time": "2024-01-22T21:58:57.961408",
     "exception": false,
     "start_time": "2024-01-22T21:58:57.944618",
     "status": "completed"
    },
    "tags": []
   },
   "outputs": [
    {
     "data": {
      "text/plain": [
       "<pandas.core.groupby.generic.DataFrameGroupBy object at 0x7ac937982dd0>"
      ]
     },
     "execution_count": 5,
     "metadata": {},
     "output_type": "execute_result"
    }
   ],
   "source": [
    "train_df_grouped_by_eeg_id = train_df.groupby(\"eeg_id\")  # Does not return DataFrame, but for convinience.\n",
    "train_df_grouped_by_eeg_id"
   ]
  },
  {
   "cell_type": "code",
   "execution_count": 6,
   "id": "1561cf89",
   "metadata": {
    "execution": {
     "iopub.execute_input": "2024-01-22T21:58:57.978786Z",
     "iopub.status.busy": "2024-01-22T21:58:57.978538Z",
     "iopub.status.idle": "2024-01-22T21:58:58.016637Z",
     "shell.execute_reply": "2024-01-22T21:58:58.015840Z"
    },
    "papermill": {
     "duration": 0.049244,
     "end_time": "2024-01-22T21:58:58.018878",
     "exception": false,
     "start_time": "2024-01-22T21:58:57.969634",
     "status": "completed"
    },
    "tags": []
   },
   "outputs": [
    {
     "data": {
      "text/html": [
       "<div>\n",
       "<style scoped>\n",
       "    .dataframe tbody tr th:only-of-type {\n",
       "        vertical-align: middle;\n",
       "    }\n",
       "\n",
       "    .dataframe tbody tr th {\n",
       "        vertical-align: top;\n",
       "    }\n",
       "\n",
       "    .dataframe thead th {\n",
       "        text-align: right;\n",
       "    }\n",
       "</style>\n",
       "<table border=\"1\" class=\"dataframe\">\n",
       "  <thead>\n",
       "    <tr style=\"text-align: right;\">\n",
       "      <th></th>\n",
       "      <th>spec_id</th>\n",
       "      <th>min_offset_secs</th>\n",
       "    </tr>\n",
       "    <tr>\n",
       "      <th>eeg_id</th>\n",
       "      <th></th>\n",
       "      <th></th>\n",
       "    </tr>\n",
       "  </thead>\n",
       "  <tbody>\n",
       "    <tr>\n",
       "      <th>568657</th>\n",
       "      <td>789577333</td>\n",
       "      <td>0.0</td>\n",
       "    </tr>\n",
       "    <tr>\n",
       "      <th>582999</th>\n",
       "      <td>1552638400</td>\n",
       "      <td>0.0</td>\n",
       "    </tr>\n",
       "    <tr>\n",
       "      <th>642382</th>\n",
       "      <td>14960202</td>\n",
       "      <td>1008.0</td>\n",
       "    </tr>\n",
       "    <tr>\n",
       "      <th>751790</th>\n",
       "      <td>618728447</td>\n",
       "      <td>908.0</td>\n",
       "    </tr>\n",
       "    <tr>\n",
       "      <th>778705</th>\n",
       "      <td>52296320</td>\n",
       "      <td>0.0</td>\n",
       "    </tr>\n",
       "  </tbody>\n",
       "</table>\n",
       "</div>"
      ],
      "text/plain": [
       "           spec_id  min_offset_secs\n",
       "eeg_id                             \n",
       "568657   789577333              0.0\n",
       "582999  1552638400              0.0\n",
       "642382    14960202           1008.0\n",
       "751790   618728447            908.0\n",
       "778705    52296320              0.0"
      ]
     },
     "execution_count": 6,
     "metadata": {},
     "output_type": "execute_result"
    }
   ],
   "source": [
    "train_df_agg = train_df_grouped_by_eeg_id[[\"spectrogram_id\", \"spectrogram_label_offset_seconds\"]].agg(\n",
    "    {\"spectrogram_id\": \"first\",\n",
    "     \"spectrogram_label_offset_seconds\": \"min\"}\n",
    ")\n",
    "train_df_agg.columns = [\"spec_id\", \"min_offset_secs\"]\n",
    "\n",
    "train_df_agg.head()\n",
    "# train_df_agg.loc[1628180742]  # See if they are 353733 and 0."
   ]
  },
  {
   "cell_type": "code",
   "execution_count": 7,
   "id": "92fe394e",
   "metadata": {
    "execution": {
     "iopub.execute_input": "2024-01-22T21:58:58.037411Z",
     "iopub.status.busy": "2024-01-22T21:58:58.037114Z",
     "iopub.status.idle": "2024-01-22T21:58:58.051438Z",
     "shell.execute_reply": "2024-01-22T21:58:58.050735Z"
    },
    "papermill": {
     "duration": 0.025934,
     "end_time": "2024-01-22T21:58:58.053573",
     "exception": false,
     "start_time": "2024-01-22T21:58:58.027639",
     "status": "completed"
    },
    "tags": []
   },
   "outputs": [
    {
     "data": {
      "text/html": [
       "<div>\n",
       "<style scoped>\n",
       "    .dataframe tbody tr th:only-of-type {\n",
       "        vertical-align: middle;\n",
       "    }\n",
       "\n",
       "    .dataframe tbody tr th {\n",
       "        vertical-align: top;\n",
       "    }\n",
       "\n",
       "    .dataframe thead th {\n",
       "        text-align: right;\n",
       "    }\n",
       "</style>\n",
       "<table border=\"1\" class=\"dataframe\">\n",
       "  <thead>\n",
       "    <tr style=\"text-align: right;\">\n",
       "      <th></th>\n",
       "      <th>spec_id</th>\n",
       "      <th>min_offset_secs</th>\n",
       "      <th>max_offset_secs</th>\n",
       "    </tr>\n",
       "    <tr>\n",
       "      <th>eeg_id</th>\n",
       "      <th></th>\n",
       "      <th></th>\n",
       "      <th></th>\n",
       "    </tr>\n",
       "  </thead>\n",
       "  <tbody>\n",
       "    <tr>\n",
       "      <th>568657</th>\n",
       "      <td>789577333</td>\n",
       "      <td>0.0</td>\n",
       "      <td>16.0</td>\n",
       "    </tr>\n",
       "    <tr>\n",
       "      <th>582999</th>\n",
       "      <td>1552638400</td>\n",
       "      <td>0.0</td>\n",
       "      <td>38.0</td>\n",
       "    </tr>\n",
       "    <tr>\n",
       "      <th>642382</th>\n",
       "      <td>14960202</td>\n",
       "      <td>1008.0</td>\n",
       "      <td>1032.0</td>\n",
       "    </tr>\n",
       "    <tr>\n",
       "      <th>751790</th>\n",
       "      <td>618728447</td>\n",
       "      <td>908.0</td>\n",
       "      <td>908.0</td>\n",
       "    </tr>\n",
       "    <tr>\n",
       "      <th>778705</th>\n",
       "      <td>52296320</td>\n",
       "      <td>0.0</td>\n",
       "      <td>0.0</td>\n",
       "    </tr>\n",
       "  </tbody>\n",
       "</table>\n",
       "</div>"
      ],
      "text/plain": [
       "           spec_id  min_offset_secs  max_offset_secs\n",
       "eeg_id                                              \n",
       "568657   789577333              0.0             16.0\n",
       "582999  1552638400              0.0             38.0\n",
       "642382    14960202           1008.0           1032.0\n",
       "751790   618728447            908.0            908.0\n",
       "778705    52296320              0.0              0.0"
      ]
     },
     "execution_count": 7,
     "metadata": {},
     "output_type": "execute_result"
    }
   ],
   "source": [
    "tmp = train_df_grouped_by_eeg_id[[\"spectrogram_id\", \"spectrogram_label_offset_seconds\"]].agg(\n",
    "    {\"spectrogram_label_offset_seconds\": \"max\"}\n",
    ")\n",
    "train_df_agg['max_offset_secs'] = tmp\n",
    "\n",
    "train_df_agg.head()"
   ]
  },
  {
   "cell_type": "code",
   "execution_count": 8,
   "id": "d8d15230",
   "metadata": {
    "execution": {
     "iopub.execute_input": "2024-01-22T21:58:58.072400Z",
     "iopub.status.busy": "2024-01-22T21:58:58.072135Z",
     "iopub.status.idle": "2024-01-22T21:58:58.085133Z",
     "shell.execute_reply": "2024-01-22T21:58:58.084301Z"
    },
    "papermill": {
     "duration": 0.024175,
     "end_time": "2024-01-22T21:58:58.087005",
     "exception": false,
     "start_time": "2024-01-22T21:58:58.062830",
     "status": "completed"
    },
    "tags": []
   },
   "outputs": [
    {
     "data": {
      "text/html": [
       "<div>\n",
       "<style scoped>\n",
       "    .dataframe tbody tr th:only-of-type {\n",
       "        vertical-align: middle;\n",
       "    }\n",
       "\n",
       "    .dataframe tbody tr th {\n",
       "        vertical-align: top;\n",
       "    }\n",
       "\n",
       "    .dataframe thead th {\n",
       "        text-align: right;\n",
       "    }\n",
       "</style>\n",
       "<table border=\"1\" class=\"dataframe\">\n",
       "  <thead>\n",
       "    <tr style=\"text-align: right;\">\n",
       "      <th></th>\n",
       "      <th>spec_id</th>\n",
       "      <th>min_offset_secs</th>\n",
       "      <th>max_offset_secs</th>\n",
       "      <th>patient_id</th>\n",
       "    </tr>\n",
       "    <tr>\n",
       "      <th>eeg_id</th>\n",
       "      <th></th>\n",
       "      <th></th>\n",
       "      <th></th>\n",
       "      <th></th>\n",
       "    </tr>\n",
       "  </thead>\n",
       "  <tbody>\n",
       "    <tr>\n",
       "      <th>568657</th>\n",
       "      <td>789577333</td>\n",
       "      <td>0.0</td>\n",
       "      <td>16.0</td>\n",
       "      <td>20654</td>\n",
       "    </tr>\n",
       "    <tr>\n",
       "      <th>582999</th>\n",
       "      <td>1552638400</td>\n",
       "      <td>0.0</td>\n",
       "      <td>38.0</td>\n",
       "      <td>20230</td>\n",
       "    </tr>\n",
       "    <tr>\n",
       "      <th>642382</th>\n",
       "      <td>14960202</td>\n",
       "      <td>1008.0</td>\n",
       "      <td>1032.0</td>\n",
       "      <td>5955</td>\n",
       "    </tr>\n",
       "    <tr>\n",
       "      <th>751790</th>\n",
       "      <td>618728447</td>\n",
       "      <td>908.0</td>\n",
       "      <td>908.0</td>\n",
       "      <td>38549</td>\n",
       "    </tr>\n",
       "    <tr>\n",
       "      <th>778705</th>\n",
       "      <td>52296320</td>\n",
       "      <td>0.0</td>\n",
       "      <td>0.0</td>\n",
       "      <td>40955</td>\n",
       "    </tr>\n",
       "  </tbody>\n",
       "</table>\n",
       "</div>"
      ],
      "text/plain": [
       "           spec_id  min_offset_secs  max_offset_secs  patient_id\n",
       "eeg_id                                                          \n",
       "568657   789577333              0.0             16.0       20654\n",
       "582999  1552638400              0.0             38.0       20230\n",
       "642382    14960202           1008.0           1032.0        5955\n",
       "751790   618728447            908.0            908.0       38549\n",
       "778705    52296320              0.0              0.0       40955"
      ]
     },
     "execution_count": 8,
     "metadata": {},
     "output_type": "execute_result"
    }
   ],
   "source": [
    "tmp = train_df_grouped_by_eeg_id[[\"patient_id\"]].agg(\"first\")\n",
    "train_df_agg['patient_id'] = tmp\n",
    "\n",
    "train_df_agg.head()"
   ]
  },
  {
   "cell_type": "code",
   "execution_count": 9,
   "id": "cd84ebe0",
   "metadata": {
    "execution": {
     "iopub.execute_input": "2024-01-22T21:58:58.106277Z",
     "iopub.status.busy": "2024-01-22T21:58:58.105743Z",
     "iopub.status.idle": "2024-01-22T21:58:58.125393Z",
     "shell.execute_reply": "2024-01-22T21:58:58.124600Z"
    },
    "papermill": {
     "duration": 0.03208,
     "end_time": "2024-01-22T21:58:58.128080",
     "exception": false,
     "start_time": "2024-01-22T21:58:58.096000",
     "status": "completed"
    },
    "tags": []
   },
   "outputs": [
    {
     "data": {
      "text/html": [
       "<div>\n",
       "<style scoped>\n",
       "    .dataframe tbody tr th:only-of-type {\n",
       "        vertical-align: middle;\n",
       "    }\n",
       "\n",
       "    .dataframe tbody tr th {\n",
       "        vertical-align: top;\n",
       "    }\n",
       "\n",
       "    .dataframe thead th {\n",
       "        text-align: right;\n",
       "    }\n",
       "</style>\n",
       "<table border=\"1\" class=\"dataframe\">\n",
       "  <thead>\n",
       "    <tr style=\"text-align: right;\">\n",
       "      <th></th>\n",
       "      <th>spec_id</th>\n",
       "      <th>min_offset_secs</th>\n",
       "      <th>max_offset_secs</th>\n",
       "      <th>patient_id</th>\n",
       "      <th>seizure_vote</th>\n",
       "      <th>lpd_vote</th>\n",
       "      <th>gpd_vote</th>\n",
       "      <th>lrda_vote</th>\n",
       "      <th>grda_vote</th>\n",
       "      <th>other_vote</th>\n",
       "    </tr>\n",
       "    <tr>\n",
       "      <th>eeg_id</th>\n",
       "      <th></th>\n",
       "      <th></th>\n",
       "      <th></th>\n",
       "      <th></th>\n",
       "      <th></th>\n",
       "      <th></th>\n",
       "      <th></th>\n",
       "      <th></th>\n",
       "      <th></th>\n",
       "      <th></th>\n",
       "    </tr>\n",
       "  </thead>\n",
       "  <tbody>\n",
       "    <tr>\n",
       "      <th>568657</th>\n",
       "      <td>789577333</td>\n",
       "      <td>0.0</td>\n",
       "      <td>16.0</td>\n",
       "      <td>20654</td>\n",
       "      <td>0</td>\n",
       "      <td>0</td>\n",
       "      <td>12</td>\n",
       "      <td>0</td>\n",
       "      <td>8</td>\n",
       "      <td>28</td>\n",
       "    </tr>\n",
       "    <tr>\n",
       "      <th>582999</th>\n",
       "      <td>1552638400</td>\n",
       "      <td>0.0</td>\n",
       "      <td>38.0</td>\n",
       "      <td>20230</td>\n",
       "      <td>0</td>\n",
       "      <td>132</td>\n",
       "      <td>0</td>\n",
       "      <td>11</td>\n",
       "      <td>0</td>\n",
       "      <td>11</td>\n",
       "    </tr>\n",
       "    <tr>\n",
       "      <th>642382</th>\n",
       "      <td>14960202</td>\n",
       "      <td>1008.0</td>\n",
       "      <td>1032.0</td>\n",
       "      <td>5955</td>\n",
       "      <td>0</td>\n",
       "      <td>0</td>\n",
       "      <td>0</td>\n",
       "      <td>0</td>\n",
       "      <td>0</td>\n",
       "      <td>2</td>\n",
       "    </tr>\n",
       "    <tr>\n",
       "      <th>751790</th>\n",
       "      <td>618728447</td>\n",
       "      <td>908.0</td>\n",
       "      <td>908.0</td>\n",
       "      <td>38549</td>\n",
       "      <td>0</td>\n",
       "      <td>0</td>\n",
       "      <td>1</td>\n",
       "      <td>0</td>\n",
       "      <td>0</td>\n",
       "      <td>0</td>\n",
       "    </tr>\n",
       "    <tr>\n",
       "      <th>778705</th>\n",
       "      <td>52296320</td>\n",
       "      <td>0.0</td>\n",
       "      <td>0.0</td>\n",
       "      <td>40955</td>\n",
       "      <td>0</td>\n",
       "      <td>0</td>\n",
       "      <td>0</td>\n",
       "      <td>0</td>\n",
       "      <td>0</td>\n",
       "      <td>2</td>\n",
       "    </tr>\n",
       "  </tbody>\n",
       "</table>\n",
       "</div>"
      ],
      "text/plain": [
       "           spec_id  min_offset_secs  max_offset_secs  patient_id  \\\n",
       "eeg_id                                                             \n",
       "568657   789577333              0.0             16.0       20654   \n",
       "582999  1552638400              0.0             38.0       20230   \n",
       "642382    14960202           1008.0           1032.0        5955   \n",
       "751790   618728447            908.0            908.0       38549   \n",
       "778705    52296320              0.0              0.0       40955   \n",
       "\n",
       "        seizure_vote  lpd_vote  gpd_vote  lrda_vote  grda_vote  other_vote  \n",
       "eeg_id                                                                      \n",
       "568657             0         0        12          0          8          28  \n",
       "582999             0       132         0         11          0          11  \n",
       "642382             0         0         0          0          0           2  \n",
       "751790             0         0         1          0          0           0  \n",
       "778705             0         0         0          0          0           2  "
      ]
     },
     "execution_count": 9,
     "metadata": {},
     "output_type": "execute_result"
    }
   ],
   "source": [
    "tmp = train_df_grouped_by_eeg_id[targets].agg(\"sum\")\n",
    "for target in targets:\n",
    "    train_df_agg[target] = tmp[target].values\n",
    "\n",
    "train_df_agg.head()"
   ]
  },
  {
   "cell_type": "code",
   "execution_count": 10,
   "id": "8c1a0a36",
   "metadata": {
    "execution": {
     "iopub.execute_input": "2024-01-22T21:58:58.147794Z",
     "iopub.status.busy": "2024-01-22T21:58:58.147491Z",
     "iopub.status.idle": "2024-01-22T21:58:58.174443Z",
     "shell.execute_reply": "2024-01-22T21:58:58.173569Z"
    },
    "papermill": {
     "duration": 0.03909,
     "end_time": "2024-01-22T21:58:58.176456",
     "exception": false,
     "start_time": "2024-01-22T21:58:58.137366",
     "status": "completed"
    },
    "tags": []
   },
   "outputs": [
    {
     "data": {
      "text/html": [
       "<div>\n",
       "<style scoped>\n",
       "    .dataframe tbody tr th:only-of-type {\n",
       "        vertical-align: middle;\n",
       "    }\n",
       "\n",
       "    .dataframe tbody tr th {\n",
       "        vertical-align: top;\n",
       "    }\n",
       "\n",
       "    .dataframe thead th {\n",
       "        text-align: right;\n",
       "    }\n",
       "</style>\n",
       "<table border=\"1\" class=\"dataframe\">\n",
       "  <thead>\n",
       "    <tr style=\"text-align: right;\">\n",
       "      <th></th>\n",
       "      <th>spec_id</th>\n",
       "      <th>min_offset_secs</th>\n",
       "      <th>max_offset_secs</th>\n",
       "      <th>patient_id</th>\n",
       "      <th>seizure_vote</th>\n",
       "      <th>lpd_vote</th>\n",
       "      <th>gpd_vote</th>\n",
       "      <th>lrda_vote</th>\n",
       "      <th>grda_vote</th>\n",
       "      <th>other_vote</th>\n",
       "      <th>target</th>\n",
       "    </tr>\n",
       "    <tr>\n",
       "      <th>eeg_id</th>\n",
       "      <th></th>\n",
       "      <th></th>\n",
       "      <th></th>\n",
       "      <th></th>\n",
       "      <th></th>\n",
       "      <th></th>\n",
       "      <th></th>\n",
       "      <th></th>\n",
       "      <th></th>\n",
       "      <th></th>\n",
       "      <th></th>\n",
       "    </tr>\n",
       "  </thead>\n",
       "  <tbody>\n",
       "    <tr>\n",
       "      <th>568657</th>\n",
       "      <td>789577333</td>\n",
       "      <td>0.0</td>\n",
       "      <td>16.0</td>\n",
       "      <td>20654</td>\n",
       "      <td>0</td>\n",
       "      <td>0</td>\n",
       "      <td>12</td>\n",
       "      <td>0</td>\n",
       "      <td>8</td>\n",
       "      <td>28</td>\n",
       "      <td>Other</td>\n",
       "    </tr>\n",
       "    <tr>\n",
       "      <th>582999</th>\n",
       "      <td>1552638400</td>\n",
       "      <td>0.0</td>\n",
       "      <td>38.0</td>\n",
       "      <td>20230</td>\n",
       "      <td>0</td>\n",
       "      <td>132</td>\n",
       "      <td>0</td>\n",
       "      <td>11</td>\n",
       "      <td>0</td>\n",
       "      <td>11</td>\n",
       "      <td>LPD</td>\n",
       "    </tr>\n",
       "    <tr>\n",
       "      <th>642382</th>\n",
       "      <td>14960202</td>\n",
       "      <td>1008.0</td>\n",
       "      <td>1032.0</td>\n",
       "      <td>5955</td>\n",
       "      <td>0</td>\n",
       "      <td>0</td>\n",
       "      <td>0</td>\n",
       "      <td>0</td>\n",
       "      <td>0</td>\n",
       "      <td>2</td>\n",
       "      <td>Other</td>\n",
       "    </tr>\n",
       "    <tr>\n",
       "      <th>751790</th>\n",
       "      <td>618728447</td>\n",
       "      <td>908.0</td>\n",
       "      <td>908.0</td>\n",
       "      <td>38549</td>\n",
       "      <td>0</td>\n",
       "      <td>0</td>\n",
       "      <td>1</td>\n",
       "      <td>0</td>\n",
       "      <td>0</td>\n",
       "      <td>0</td>\n",
       "      <td>GPD</td>\n",
       "    </tr>\n",
       "    <tr>\n",
       "      <th>778705</th>\n",
       "      <td>52296320</td>\n",
       "      <td>0.0</td>\n",
       "      <td>0.0</td>\n",
       "      <td>40955</td>\n",
       "      <td>0</td>\n",
       "      <td>0</td>\n",
       "      <td>0</td>\n",
       "      <td>0</td>\n",
       "      <td>0</td>\n",
       "      <td>2</td>\n",
       "      <td>Other</td>\n",
       "    </tr>\n",
       "  </tbody>\n",
       "</table>\n",
       "</div>"
      ],
      "text/plain": [
       "           spec_id  min_offset_secs  max_offset_secs  patient_id  \\\n",
       "eeg_id                                                             \n",
       "568657   789577333              0.0             16.0       20654   \n",
       "582999  1552638400              0.0             38.0       20230   \n",
       "642382    14960202           1008.0           1032.0        5955   \n",
       "751790   618728447            908.0            908.0       38549   \n",
       "778705    52296320              0.0              0.0       40955   \n",
       "\n",
       "        seizure_vote  lpd_vote  gpd_vote  lrda_vote  grda_vote  other_vote  \\\n",
       "eeg_id                                                                       \n",
       "568657             0         0        12          0          8          28   \n",
       "582999             0       132         0         11          0          11   \n",
       "642382             0         0         0          0          0           2   \n",
       "751790             0         0         1          0          0           0   \n",
       "778705             0         0         0          0          0           2   \n",
       "\n",
       "       target  \n",
       "eeg_id         \n",
       "568657  Other  \n",
       "582999    LPD  \n",
       "642382  Other  \n",
       "751790    GPD  \n",
       "778705  Other  "
      ]
     },
     "execution_count": 10,
     "metadata": {},
     "output_type": "execute_result"
    }
   ],
   "source": [
    "tmp = train_df_grouped_by_eeg_id[[\"expert_consensus\"]].agg(\"first\")\n",
    "train_df_agg[\"target\"] = tmp\n",
    "\n",
    "train_df_agg.head()"
   ]
  },
  {
   "cell_type": "code",
   "execution_count": 11,
   "id": "75b532cc",
   "metadata": {
    "execution": {
     "iopub.execute_input": "2024-01-22T21:58:58.197823Z",
     "iopub.status.busy": "2024-01-22T21:58:58.197235Z",
     "iopub.status.idle": "2024-01-22T21:58:58.213417Z",
     "shell.execute_reply": "2024-01-22T21:58:58.212516Z"
    },
    "papermill": {
     "duration": 0.028933,
     "end_time": "2024-01-22T21:58:58.215359",
     "exception": false,
     "start_time": "2024-01-22T21:58:58.186426",
     "status": "completed"
    },
    "tags": []
   },
   "outputs": [
    {
     "name": "stdout",
     "output_type": "stream",
     "text": [
      "Train non-overlapped eeg_id shape:  (17089, 12)\n"
     ]
    },
    {
     "data": {
      "text/html": [
       "<div>\n",
       "<style scoped>\n",
       "    .dataframe tbody tr th:only-of-type {\n",
       "        vertical-align: middle;\n",
       "    }\n",
       "\n",
       "    .dataframe tbody tr th {\n",
       "        vertical-align: top;\n",
       "    }\n",
       "\n",
       "    .dataframe thead th {\n",
       "        text-align: right;\n",
       "    }\n",
       "</style>\n",
       "<table border=\"1\" class=\"dataframe\">\n",
       "  <thead>\n",
       "    <tr style=\"text-align: right;\">\n",
       "      <th></th>\n",
       "      <th>eeg_id</th>\n",
       "      <th>spec_id</th>\n",
       "      <th>min_offset_secs</th>\n",
       "      <th>max_offset_secs</th>\n",
       "      <th>patient_id</th>\n",
       "      <th>seizure_vote</th>\n",
       "      <th>lpd_vote</th>\n",
       "      <th>gpd_vote</th>\n",
       "      <th>lrda_vote</th>\n",
       "      <th>grda_vote</th>\n",
       "      <th>other_vote</th>\n",
       "      <th>target</th>\n",
       "    </tr>\n",
       "  </thead>\n",
       "  <tbody>\n",
       "    <tr>\n",
       "      <th>0</th>\n",
       "      <td>568657</td>\n",
       "      <td>789577333</td>\n",
       "      <td>0.0</td>\n",
       "      <td>16.0</td>\n",
       "      <td>20654</td>\n",
       "      <td>0</td>\n",
       "      <td>0</td>\n",
       "      <td>12</td>\n",
       "      <td>0</td>\n",
       "      <td>8</td>\n",
       "      <td>28</td>\n",
       "      <td>Other</td>\n",
       "    </tr>\n",
       "    <tr>\n",
       "      <th>1</th>\n",
       "      <td>582999</td>\n",
       "      <td>1552638400</td>\n",
       "      <td>0.0</td>\n",
       "      <td>38.0</td>\n",
       "      <td>20230</td>\n",
       "      <td>0</td>\n",
       "      <td>132</td>\n",
       "      <td>0</td>\n",
       "      <td>11</td>\n",
       "      <td>0</td>\n",
       "      <td>11</td>\n",
       "      <td>LPD</td>\n",
       "    </tr>\n",
       "    <tr>\n",
       "      <th>2</th>\n",
       "      <td>642382</td>\n",
       "      <td>14960202</td>\n",
       "      <td>1008.0</td>\n",
       "      <td>1032.0</td>\n",
       "      <td>5955</td>\n",
       "      <td>0</td>\n",
       "      <td>0</td>\n",
       "      <td>0</td>\n",
       "      <td>0</td>\n",
       "      <td>0</td>\n",
       "      <td>2</td>\n",
       "      <td>Other</td>\n",
       "    </tr>\n",
       "    <tr>\n",
       "      <th>3</th>\n",
       "      <td>751790</td>\n",
       "      <td>618728447</td>\n",
       "      <td>908.0</td>\n",
       "      <td>908.0</td>\n",
       "      <td>38549</td>\n",
       "      <td>0</td>\n",
       "      <td>0</td>\n",
       "      <td>1</td>\n",
       "      <td>0</td>\n",
       "      <td>0</td>\n",
       "      <td>0</td>\n",
       "      <td>GPD</td>\n",
       "    </tr>\n",
       "    <tr>\n",
       "      <th>4</th>\n",
       "      <td>778705</td>\n",
       "      <td>52296320</td>\n",
       "      <td>0.0</td>\n",
       "      <td>0.0</td>\n",
       "      <td>40955</td>\n",
       "      <td>0</td>\n",
       "      <td>0</td>\n",
       "      <td>0</td>\n",
       "      <td>0</td>\n",
       "      <td>0</td>\n",
       "      <td>2</td>\n",
       "      <td>Other</td>\n",
       "    </tr>\n",
       "  </tbody>\n",
       "</table>\n",
       "</div>"
      ],
      "text/plain": [
       "   eeg_id     spec_id  min_offset_secs  max_offset_secs  patient_id  \\\n",
       "0  568657   789577333              0.0             16.0       20654   \n",
       "1  582999  1552638400              0.0             38.0       20230   \n",
       "2  642382    14960202           1008.0           1032.0        5955   \n",
       "3  751790   618728447            908.0            908.0       38549   \n",
       "4  778705    52296320              0.0              0.0       40955   \n",
       "\n",
       "   seizure_vote  lpd_vote  gpd_vote  lrda_vote  grda_vote  other_vote target  \n",
       "0             0         0        12          0          8          28  Other  \n",
       "1             0       132         0         11          0          11    LPD  \n",
       "2             0         0         0          0          0           2  Other  \n",
       "3             0         0         1          0          0           0    GPD  \n",
       "4             0         0         0          0          0           2  Other  "
      ]
     },
     "execution_count": 11,
     "metadata": {},
     "output_type": "execute_result"
    }
   ],
   "source": [
    "train_df_agg = train_df_agg.reset_index()\n",
    "print(\"Train non-overlapped eeg_id shape: \", train_df_agg.shape)\n",
    "\n",
    "train_df_agg.head()"
   ]
  },
  {
   "cell_type": "markdown",
   "id": "60998483",
   "metadata": {
    "papermill": {
     "duration": 0.009607,
     "end_time": "2024-01-22T21:58:58.234870",
     "exception": false,
     "start_time": "2024-01-22T21:58:58.225263",
     "status": "completed"
    },
    "tags": []
   },
   "source": [
    "### Feature Engineer\n",
    "First we need to read in all 11k train spectrogram files. Reading thousands of files takes 11 minutes with Pandas. Instead, we can read 1 file from [Brain-Spectrograms dataset](https://www.kaggle.com/datasets/cdeotte/brain-spectrograms), which contains all the 11k spectrograms in less than 1 minute! To use this dataset, set variable READ_SPEC_FILES = False.\n",
    "\n",
    "Next we need to engineer features for our CatBoost model. In this notebook, we just take the mean (over time) of each of the 400 spectrogram frequencies (using middle 10 minutes). This produces 400 features (per each unique eeg id). We can improve CV and LB score by engineering new features (and/or tuning CatBoost).\n",
    "\n",
    "Also here we create features from means and mins and use 10 minute windows and 20 second windows."
   ]
  },
  {
   "cell_type": "code",
   "execution_count": 12,
   "id": "6d058f3d",
   "metadata": {
    "execution": {
     "iopub.execute_input": "2024-01-22T21:58:58.255708Z",
     "iopub.status.busy": "2024-01-22T21:58:58.255074Z",
     "iopub.status.idle": "2024-01-22T21:58:58.258886Z",
     "shell.execute_reply": "2024-01-22T21:58:58.258061Z"
    },
    "papermill": {
     "duration": 0.016159,
     "end_time": "2024-01-22T21:58:58.260744",
     "exception": false,
     "start_time": "2024-01-22T21:58:58.244585",
     "status": "completed"
    },
    "tags": []
   },
   "outputs": [],
   "source": [
    "READ_SPEC_FILES = False\n",
    "FEATURE_ENGINEER = True"
   ]
  },
  {
   "cell_type": "code",
   "execution_count": 13,
   "id": "9c4c7ac9",
   "metadata": {
    "execution": {
     "iopub.execute_input": "2024-01-22T21:58:58.281369Z",
     "iopub.status.busy": "2024-01-22T21:58:58.281105Z",
     "iopub.status.idle": "2024-01-22T21:59:54.348939Z",
     "shell.execute_reply": "2024-01-22T21:59:54.348054Z"
    },
    "papermill": {
     "duration": 56.091541,
     "end_time": "2024-01-22T21:59:54.362185",
     "exception": false,
     "start_time": "2024-01-22T21:58:58.270644",
     "status": "completed"
    },
    "tags": []
   },
   "outputs": [
    {
     "name": "stdout",
     "output_type": "stream",
     "text": [
      "There are 11138 spectrogram parquets\n",
      "CPU times: user 2.64 s, sys: 6.05 s, total: 8.69 s\n",
      "Wall time: 56.1 s\n"
     ]
    }
   ],
   "source": [
    "%%time\n",
    "# Read all spectrograms.\n",
    "if is_kaggle:\n",
    "    spectrograms_dir_path = \"/kaggle/input/hms-harmful-brain-activity-classification/train_spectrograms/\"\n",
    "    spectrograms_npy_path = \"/kaggle/input/brain-spectrograms/specs.npy\"\n",
    "elif is_colab:\n",
    "    spectrograms_dir_path = f\"input/{dataset_name}/train_spectrograms\"\n",
    "    spectrograms_npy_path = f\"input/{addition_dataset}/specs.npy\"\n",
    "else:\n",
    "    spectrograms_dir_path = \"./../data/input/train_spectrograms\"\n",
    "    spectrograms_npy_path = \"./../data/input/brain-spectrograms/specs.npy\"\n",
    "    \n",
    "spectrogram_files = os.listdir(spectrograms_dir_path)\n",
    "\n",
    "print(f\"There are {(len(spectrogram_files))} spectrogram parquets\")\n",
    "\n",
    "if READ_SPEC_FILES:\n",
    "    spectrograms = {}\n",
    "    for index, spectrogram_file in enumerate(spectrogram_files):\n",
    "        if index % 100 == 0:\n",
    "            print(f\"{index}, \", end=\"\")\n",
    "        tmp = pd.read_parquet(f\"{spectrograms_dir_path}{spectrogram_file}\")\n",
    "        name = int(spectrogram_file.split(\".\")[0])\n",
    "        spectrograms[name] = tmp.iloc[:, 1:].values\n",
    "else:\n",
    "    spectrograms = np.load(spectrograms_npy_path, allow_pickle=True).item()"
   ]
  },
  {
   "cell_type": "code",
   "execution_count": 14,
   "id": "27f30697",
   "metadata": {
    "execution": {
     "iopub.execute_input": "2024-01-22T21:59:54.383923Z",
     "iopub.status.busy": "2024-01-22T21:59:54.383609Z",
     "iopub.status.idle": "2024-01-22T22:00:11.985211Z",
     "shell.execute_reply": "2024-01-22T22:00:11.984195Z"
    },
    "papermill": {
     "duration": 17.615085,
     "end_time": "2024-01-22T22:00:11.987519",
     "exception": false,
     "start_time": "2024-01-22T21:59:54.372434",
     "status": "completed"
    },
    "tags": []
   },
   "outputs": [
    {
     "name": "stdout",
     "output_type": "stream",
     "text": [
      "CPU times: user 1 µs, sys: 2 µs, total: 3 µs\n",
      "Wall time: 7.39 µs\n",
      "We are creating 1600 features for 17089 rows...0, 100, 200, 300, 400, 500, 600, 700, 800, 900, 1000, 1100, 1200, 1300, 1400, 1500, 1600, 1700, 1800, 1900, 2000, 2100, 2200, 2300, 2400, 2500, 2600, 2700, 2800, 2900, 3000, 3100, 3200, 3300, 3400, 3500, 3600, 3700, 3800, 3900, 4000, 4100, 4200, 4300, 4400, 4500, 4600, 4700, 4800, 4900, 5000, 5100, 5200, 5300, 5400, 5500, 5600, 5700, 5800, 5900, 6000, 6100, 6200, 6300, 6400, 6500, 6600, 6700, 6800, 6900, 7000, 7100, 7200, 7300, 7400, 7500, 7600, 7700, 7800, 7900, 8000, 8100, 8200, 8300, 8400, 8500, 8600, 8700, 8800, 8900, 9000, 9100, 9200, 9300, 9400, 9500, 9600, 9700, 9800, 9900, 10000, 10100, 10200, 10300, 10400, 10500, 10600, 10700, 10800, 10900, 11000, 11100, 11200, 11300, 11400, 11500, 11600, 11700, 11800, 11900, 12000, 12100, 12200, 12300, 12400, 12500, 12600, 12700, 12800, 12900, 13000, 13100, 13200, 13300, 13400, 13500, 13600, 13700, 13800, 13900, 14000, 14100, 14200, 14300, 14400, 14500, 14600, 14700, 14800, 14900, 15000, 15100, 15200, 15300, 15400, 15500, 15600, 15700, 15800, 15900, 16000, 16100, 16200, 16300, 16400, 16500, 16600, 16700, 16800, 16900, 17000, \n",
      "New train shape:  (17089, 1612)\n"
     ]
    }
   ],
   "source": [
    "%time\n",
    "# Engineer features.\n",
    "import warnings\n",
    "warnings.filterwarnings(\"ignore\")\n",
    "\n",
    "if is_kaggle:\n",
    "    train_pqt_path = \"kaggle/input/brain-spectrograms/train.pqt\"\n",
    "elif is_colab:\n",
    "    train_pqt_path = f\"input/{addition_dataset}/train.pqt\"\n",
    "else:\n",
    "    train_pqt_path = \"./../data/input/brain-spectrograms/train.pqt\"\n",
    "\n",
    "spec_cols = pd.read_parquet(os.path.join(spectrograms_dir_path, \"1000086677.parquet\")).columns[1:]\n",
    "features = [f\"{col}_mean_10m\" for col in spec_cols]\n",
    "features += [f\"{col}_min_10m\" for col in spec_cols]\n",
    "features += [f\"{col}_mean_20m\" for col in spec_cols]\n",
    "features += [f\"{col}_min_20m\" for col in spec_cols]\n",
    "\n",
    "print(f\"We are creating {len(features)} features for {len(train_df_agg)} rows...\", end=\"\")\n",
    "\n",
    "if FEATURE_ENGINEER:\n",
    "    data = np.zeros((len(train_df_agg), len(features)))\n",
    "    for k in range(len(train_df_agg)):\n",
    "        if k % 100 == 0:\n",
    "            print(f\"{k}, \", end=\"\")\n",
    "        \n",
    "        row = train_df_agg.iloc[k]\n",
    "        r = int((row['min_offset_secs'] + row['max_offset_secs']) // 4)\n",
    "        \n",
    "        # 10 minute window features (means and mins)\n",
    "        x = np.nanmean(spectrograms[row.spec_id][r:r+300, :], axis=0)\n",
    "        data[k, :400] = x\n",
    "        x = np.nanmin(spectrograms[row.spec_id][r:r+300, :], axis=0)\n",
    "        data[k, 400:800] = x\n",
    "        \n",
    "        # 20 second window features (means and mins)\n",
    "        x = np.nanmean(spectrograms[row.spec_id][r+145:r+155, :], axis=0)\n",
    "        data[k, 800:1200] = x\n",
    "        x = np.nanmin(spectrograms[row.spec_id][r+145:r+155, :], axis=0)\n",
    "        data[k, 1200:1600] = x\n",
    "        \n",
    "    train_df_agg[features] = data\n",
    "else:\n",
    "    train_df_agg = pd.read_parquet(train_pqt_path)\n",
    "\n",
    "print()\n",
    "print(\"New train shape: \", train_df_agg.shape)"
   ]
  },
  {
   "cell_type": "markdown",
   "id": "462ea8c3",
   "metadata": {
    "papermill": {
     "duration": 0.018521,
     "end_time": "2024-01-22T22:00:12.025520",
     "exception": false,
     "start_time": "2024-01-22T22:00:12.006999",
     "status": "completed"
    },
    "tags": []
   },
   "source": [
    "### Train CatBoost\n",
    "We use the default settings for CatBoost which are pretty good. We can tune CatBoost manually to improve CV and LB score. Note that CatBoost will automatically use both Kaggle T4 GPUs (when we add parameter task_type='GPU') for super fast training!"
   ]
  },
  {
   "cell_type": "code",
   "execution_count": 15,
   "id": "bc67a18f",
   "metadata": {
    "execution": {
     "iopub.execute_input": "2024-01-22T22:00:12.064202Z",
     "iopub.status.busy": "2024-01-22T22:00:12.063896Z",
     "iopub.status.idle": "2024-01-22T22:00:13.658884Z",
     "shell.execute_reply": "2024-01-22T22:00:13.657969Z"
    },
    "papermill": {
     "duration": 1.617097,
     "end_time": "2024-01-22T22:00:13.661186",
     "exception": false,
     "start_time": "2024-01-22T22:00:12.044089",
     "status": "completed"
    },
    "tags": []
   },
   "outputs": [
    {
     "name": "stdout",
     "output_type": "stream",
     "text": [
      "CatBoost version 1.2.2\n"
     ]
    }
   ],
   "source": [
    "import catboost as cat, gc\n",
    "from catboost import CatBoostClassifier, Pool\n",
    "print(\"CatBoost version\", cat.__version__)"
   ]
  },
  {
   "cell_type": "code",
   "execution_count": 16,
   "id": "b5c83461",
   "metadata": {
    "execution": {
     "iopub.execute_input": "2024-01-22T22:00:13.746362Z",
     "iopub.status.busy": "2024-01-22T22:00:13.745528Z",
     "iopub.status.idle": "2024-01-22T22:04:06.635406Z",
     "shell.execute_reply": "2024-01-22T22:04:06.634353Z"
    },
    "papermill": {
     "duration": 232.913515,
     "end_time": "2024-01-22T22:04:06.638734",
     "exception": false,
     "start_time": "2024-01-22T22:00:13.725219",
     "status": "completed"
    },
    "tags": []
   },
   "outputs": [
    {
     "name": "stdout",
     "output_type": "stream",
     "text": [
      "#########################\n",
      "### Fold 1\n",
      "### train size 13671, valid size 3418\n",
      "#########################\n",
      "Learning rate set to 0.136945\n",
      "0:\tlearn: 1.6469715\ttest: 1.6671148\tbest: 1.6671148 (0)\ttotal: 270ms\tremaining: 4m 29s\n",
      "100:\tlearn: 0.7814657\ttest: 1.1357295\tbest: 1.1357295 (100)\ttotal: 4.99s\tremaining: 44.4s\n",
      "200:\tlearn: 0.6224373\ttest: 1.0949197\tbest: 1.0949197 (200)\ttotal: 9.16s\tremaining: 36.4s\n",
      "300:\tlearn: 0.5238836\ttest: 1.0872521\tbest: 1.0858146 (275)\ttotal: 13.7s\tremaining: 31.7s\n",
      "400:\tlearn: 0.4483205\ttest: 1.0776065\tbest: 1.0759090 (378)\ttotal: 17.7s\tremaining: 26.5s\n",
      "500:\tlearn: 0.3912798\ttest: 1.0805335\tbest: 1.0759090 (378)\ttotal: 21.8s\tremaining: 21.7s\n",
      "600:\tlearn: 0.3455538\ttest: 1.0781553\tbest: 1.0759090 (378)\ttotal: 26.1s\tremaining: 17.4s\n",
      "700:\tlearn: 0.3060366\ttest: 1.0826652\tbest: 1.0759090 (378)\ttotal: 30.4s\tremaining: 13s\n",
      "800:\tlearn: 0.2720059\ttest: 1.0875006\tbest: 1.0759090 (378)\ttotal: 34.8s\tremaining: 8.65s\n",
      "900:\tlearn: 0.2430538\ttest: 1.0864171\tbest: 1.0759090 (378)\ttotal: 39.2s\tremaining: 4.31s\n",
      "999:\tlearn: 0.2185321\ttest: 1.0900582\tbest: 1.0759090 (378)\ttotal: 43.7s\tremaining: 0us\n",
      "bestTest = 1.07590902\n",
      "bestIteration = 378\n",
      "Shrink model to first 379 iterations.\n",
      "#########################\n",
      "### Fold 2\n",
      "### train size 13671, valid size 3418\n",
      "#########################\n",
      "Learning rate set to 0.136945\n",
      "0:\tlearn: 1.6495267\ttest: 1.6707864\tbest: 1.6707864 (0)\ttotal: 82.9ms\tremaining: 1m 22s\n",
      "100:\tlearn: 0.7759379\ttest: 1.1485011\tbest: 1.1484008 (99)\ttotal: 4.78s\tremaining: 42.5s\n",
      "200:\tlearn: 0.6286417\ttest: 1.1312779\tbest: 1.1310294 (198)\ttotal: 9.36s\tremaining: 37.2s\n",
      "300:\tlearn: 0.5289383\ttest: 1.1332257\tbest: 1.1289595 (212)\ttotal: 13.7s\tremaining: 31.8s\n",
      "400:\tlearn: 0.4546528\ttest: 1.1267747\tbest: 1.1267747 (400)\ttotal: 18.2s\tremaining: 27.2s\n",
      "500:\tlearn: 0.3934760\ttest: 1.1332157\tbest: 1.1255387 (409)\ttotal: 22.5s\tremaining: 22.4s\n",
      "600:\tlearn: 0.3449393\ttest: 1.1394541\tbest: 1.1255387 (409)\ttotal: 26.6s\tremaining: 17.7s\n",
      "700:\tlearn: 0.3054580\ttest: 1.1405456\tbest: 1.1255387 (409)\ttotal: 31.1s\tremaining: 13.2s\n",
      "800:\tlearn: 0.2724046\ttest: 1.1443038\tbest: 1.1255387 (409)\ttotal: 35.3s\tremaining: 8.76s\n",
      "900:\tlearn: 0.2410332\ttest: 1.1517340\tbest: 1.1255387 (409)\ttotal: 39.7s\tremaining: 4.36s\n",
      "999:\tlearn: 0.2157758\ttest: 1.1568303\tbest: 1.1255387 (409)\ttotal: 43.7s\tremaining: 0us\n",
      "bestTest = 1.125538709\n",
      "bestIteration = 409\n",
      "Shrink model to first 410 iterations.\n",
      "#########################\n",
      "### Fold 3\n",
      "### train size 13671, valid size 3418\n",
      "#########################\n",
      "Learning rate set to 0.136945\n",
      "0:\tlearn: 1.6453770\ttest: 1.6754135\tbest: 1.6754135 (0)\ttotal: 85.6ms\tremaining: 1m 25s\n",
      "100:\tlearn: 0.7869052\ttest: 1.0506682\tbest: 1.0506682 (100)\ttotal: 4.58s\tremaining: 40.8s\n",
      "200:\tlearn: 0.6321882\ttest: 1.0107395\tbest: 1.0107223 (199)\ttotal: 8.92s\tremaining: 35.4s\n",
      "300:\tlearn: 0.5325839\ttest: 0.9989407\tbest: 0.9989407 (300)\ttotal: 13.3s\tremaining: 31s\n",
      "400:\tlearn: 0.4587846\ttest: 0.9878388\tbest: 0.9875894 (399)\ttotal: 17.9s\tremaining: 26.7s\n",
      "500:\tlearn: 0.3968566\ttest: 0.9865311\tbest: 0.9838624 (473)\ttotal: 22s\tremaining: 21.9s\n",
      "600:\tlearn: 0.3493740\ttest: 0.9866554\tbest: 0.9838624 (473)\ttotal: 26.1s\tremaining: 17.3s\n",
      "700:\tlearn: 0.3102642\ttest: 0.9885637\tbest: 0.9838624 (473)\ttotal: 30.3s\tremaining: 12.9s\n",
      "800:\tlearn: 0.2745319\ttest: 0.9886665\tbest: 0.9838624 (473)\ttotal: 34.6s\tremaining: 8.59s\n",
      "900:\tlearn: 0.2441567\ttest: 0.9912439\tbest: 0.9838624 (473)\ttotal: 38.8s\tremaining: 4.26s\n",
      "999:\tlearn: 0.2193496\ttest: 0.9948862\tbest: 0.9838624 (473)\ttotal: 42.9s\tremaining: 0us\n",
      "bestTest = 0.9838623618\n",
      "bestIteration = 473\n",
      "Shrink model to first 474 iterations.\n",
      "#########################\n",
      "### Fold 4\n",
      "### train size 13671, valid size 3418\n",
      "#########################\n",
      "Learning rate set to 0.136945\n",
      "0:\tlearn: 1.6502459\ttest: 1.6854279\tbest: 1.6854279 (0)\ttotal: 84.3ms\tremaining: 1m 24s\n",
      "100:\tlearn: 0.7765006\ttest: 1.1103108\tbest: 1.1103108 (100)\ttotal: 4.76s\tremaining: 42.3s\n",
      "200:\tlearn: 0.6145498\ttest: 1.0714433\tbest: 1.0714433 (200)\ttotal: 9.42s\tremaining: 37.4s\n",
      "300:\tlearn: 0.5151441\ttest: 1.0607233\tbest: 1.0607233 (300)\ttotal: 13.9s\tremaining: 32.4s\n",
      "400:\tlearn: 0.4447523\ttest: 1.0559128\tbest: 1.0544454 (376)\ttotal: 18s\tremaining: 27s\n",
      "500:\tlearn: 0.3844473\ttest: 1.0550938\tbest: 1.0544454 (376)\ttotal: 22.3s\tremaining: 22.2s\n",
      "600:\tlearn: 0.3371298\ttest: 1.0548752\tbest: 1.0526975 (553)\ttotal: 26.6s\tremaining: 17.6s\n",
      "700:\tlearn: 0.2975259\ttest: 1.0557014\tbest: 1.0526975 (553)\ttotal: 30.6s\tremaining: 13.1s\n",
      "800:\tlearn: 0.2657883\ttest: 1.0636329\tbest: 1.0526975 (553)\ttotal: 35.2s\tremaining: 8.74s\n",
      "900:\tlearn: 0.2377945\ttest: 1.0687239\tbest: 1.0526975 (553)\ttotal: 39.7s\tremaining: 4.36s\n",
      "999:\tlearn: 0.2147181\ttest: 1.0720373\tbest: 1.0526975 (553)\ttotal: 44s\tremaining: 0us\n",
      "bestTest = 1.052697518\n",
      "bestIteration = 553\n",
      "Shrink model to first 554 iterations.\n",
      "#########################\n",
      "### Fold 5\n",
      "### train size 13672, valid size 3417\n",
      "#########################\n",
      "Learning rate set to 0.136946\n",
      "0:\tlearn: 1.6528163\ttest: 1.6640105\tbest: 1.6640105 (0)\ttotal: 80.8ms\tremaining: 1m 20s\n",
      "100:\tlearn: 0.7874571\ttest: 1.1573610\tbest: 1.1570357 (98)\ttotal: 4.59s\tremaining: 40.8s\n",
      "200:\tlearn: 0.6292980\ttest: 1.1391074\tbest: 1.1366490 (180)\ttotal: 8.77s\tremaining: 34.9s\n",
      "300:\tlearn: 0.5292829\ttest: 1.1335411\tbest: 1.1268953 (251)\ttotal: 13s\tremaining: 30.1s\n",
      "400:\tlearn: 0.4577180\ttest: 1.1326096\tbest: 1.1268953 (251)\ttotal: 17.2s\tremaining: 25.6s\n",
      "500:\tlearn: 0.3987145\ttest: 1.1245662\tbest: 1.1236992 (494)\ttotal: 21.7s\tremaining: 21.7s\n",
      "600:\tlearn: 0.3513284\ttest: 1.1253334\tbest: 1.1215880 (549)\ttotal: 26.2s\tremaining: 17.4s\n",
      "700:\tlearn: 0.3126570\ttest: 1.1273044\tbest: 1.1215880 (549)\ttotal: 30.6s\tremaining: 13s\n",
      "800:\tlearn: 0.2787234\ttest: 1.1355773\tbest: 1.1215880 (549)\ttotal: 34.8s\tremaining: 8.63s\n",
      "900:\tlearn: 0.2472763\ttest: 1.1346110\tbest: 1.1215880 (549)\ttotal: 38.8s\tremaining: 4.26s\n",
      "999:\tlearn: 0.2222288\ttest: 1.1338408\tbest: 1.1215880 (549)\ttotal: 43.1s\tremaining: 0us\n",
      "bestTest = 1.121588033\n",
      "bestIteration = 549\n",
      "Shrink model to first 550 iterations.\n"
     ]
    }
   ],
   "source": [
    "from sklearn.model_selection import KFold, GroupKFold\n",
    "\n",
    "all_oof = []\n",
    "all_true = []\n",
    "\n",
    "tars = {\"Seizure\": 0, \"LPD\": 1, \"GPD\": 2, \"LRDA\": 3, \"GRDA\": 4, \"Other\": 5}\n",
    "\n",
    "if is_kaggle or is_colab:\n",
    "    n_splits = 5\n",
    "else:\n",
    "    n_splits = 2\n",
    "\n",
    "group_k_fold = GroupKFold(n_splits=n_splits)\n",
    "\n",
    "for index, (train_index, valid_index) in enumerate(group_k_fold.split(train_df_agg, train_df_agg.target, train_df_agg.patient_id)):\n",
    "    print(\"#\" * 25)\n",
    "    print(f\"### Fold {index+1}\")\n",
    "    print(f\"### train size {len(train_index)}, valid size {len(valid_index)}\")\n",
    "    print(\"#\" * 25)\n",
    "\n",
    "    if is_kaggle or is_colab:\n",
    "        model = CatBoostClassifier(task_type=\"GPU\", loss_function=\"MultiClass\")\n",
    "    else:\n",
    "        model = CatBoostClassifier(task_type=\"CPU\", loss_function=\"MultiClass\")\n",
    "\n",
    "    train_pool = Pool(\n",
    "        data=train_df_agg.loc[train_index, features],\n",
    "        label=train_df_agg.loc[train_index, \"target\"].map(tars),\n",
    "    )\n",
    "\n",
    "    valid_pool = Pool(\n",
    "        data=train_df_agg.loc[valid_index, features],\n",
    "        label=train_df_agg.loc[valid_index, \"target\"].map(tars),\n",
    "    )\n",
    "\n",
    "    model.fit(train_pool, verbose=100, eval_set=valid_pool)\n",
    "\n",
    "    oof = model.predict_proba(valid_pool)\n",
    "    all_oof.append(oof)\n",
    "    all_true.append(train_df_agg.loc[valid_index, targets].values)\n",
    "\n",
    "    del train_pool, valid_pool, oof\n",
    "    gc.collect()\n",
    "\n",
    "all_oof = np.concatenate(all_oof)\n",
    "all_true = np.concatenate(all_true)\n",
    "\n",
    "# Save the model.\n",
    "model.save_model(model_path, format=\"json\")"
   ]
  },
  {
   "cell_type": "markdown",
   "id": "26d857b8",
   "metadata": {
    "papermill": {
     "duration": 0.032121,
     "end_time": "2024-01-22T22:04:06.705490",
     "exception": false,
     "start_time": "2024-01-22T22:04:06.673369",
     "status": "completed"
    },
    "tags": []
   },
   "source": [
    "### Feature importance\n",
    "\n",
    "Below we display the CatBoost top 25 feature importance for the last fold we trained."
   ]
  },
  {
   "cell_type": "code",
   "execution_count": 17,
   "id": "aaae7b2f",
   "metadata": {
    "execution": {
     "iopub.execute_input": "2024-01-22T22:04:06.771346Z",
     "iopub.status.busy": "2024-01-22T22:04:06.770922Z",
     "iopub.status.idle": "2024-01-22T22:04:07.340120Z",
     "shell.execute_reply": "2024-01-22T22:04:07.339218Z"
    },
    "papermill": {
     "duration": 0.604246,
     "end_time": "2024-01-22T22:04:07.342578",
     "exception": false,
     "start_time": "2024-01-22T22:04:06.738332",
     "status": "completed"
    },
    "tags": []
   },
   "outputs": [
    {
     "data": {
      "image/png": "[encoded data removed]",
      "text/plain": [
       "<Figure size 1000x800 with 1 Axes>"
      ]
     },
     "metadata": {},
     "output_type": "display_data"
    }
   ],
   "source": [
    "top = 25\n",
    "\n",
    "feature_importance = model.feature_importances_\n",
    "sorted_indices = np.argsort(feature_importance)\n",
    "fig = plt.figure(figsize=(10, 8))\n",
    "plt.barh(np.arange(len(sorted_indices))[-top:], feature_importance[sorted_indices][-top:], align=\"center\")\n",
    "plt.yticks(np.arange(len(sorted_indices))[-top:], np.array(features)[sorted_indices][-top:])\n",
    "plt.title(f\"Feature Importance - Top {top}\")\n",
    "plt.show()"
   ]
  },
  {
   "cell_type": "markdown",
   "id": "af2e752c",
   "metadata": {
    "papermill": {
     "duration": 0.024454,
     "end_time": "2024-01-22T22:04:07.391737",
     "exception": false,
     "start_time": "2024-01-22T22:04:07.367283",
     "status": "completed"
    },
    "tags": []
   },
   "source": [
    "### Infer Test and Create Submission CSV\n",
    "Below we use our 5 CatBoost fold models to infer the test data and create a submission.csv file."
   ]
  },
  {
   "cell_type": "code",
   "execution_count": 18,
   "id": "8d892aaa",
   "metadata": {
    "execution": {
     "iopub.execute_input": "2024-01-22T22:04:07.441580Z",
     "iopub.status.busy": "2024-01-22T22:04:07.440970Z",
     "iopub.status.idle": "2024-01-22T22:04:07.456725Z",
     "shell.execute_reply": "2024-01-22T22:04:07.455848Z"
    },
    "papermill": {
     "duration": 0.042695,
     "end_time": "2024-01-22T22:04:07.458660",
     "exception": false,
     "start_time": "2024-01-22T22:04:07.415965",
     "status": "completed"
    },
    "tags": []
   },
   "outputs": [
    {
     "name": "stdout",
     "output_type": "stream",
     "text": [
      "Test shape (1, 3)\n"
     ]
    },
    {
     "data": {
      "text/html": [
       "<div>\n",
       "<style scoped>\n",
       "    .dataframe tbody tr th:only-of-type {\n",
       "        vertical-align: middle;\n",
       "    }\n",
       "\n",
       "    .dataframe tbody tr th {\n",
       "        vertical-align: top;\n",
       "    }\n",
       "\n",
       "    .dataframe thead th {\n",
       "        text-align: right;\n",
       "    }\n",
       "</style>\n",
       "<table border=\"1\" class=\"dataframe\">\n",
       "  <thead>\n",
       "    <tr style=\"text-align: right;\">\n",
       "      <th></th>\n",
       "      <th>spectrogram_id</th>\n",
       "      <th>eeg_id</th>\n",
       "      <th>patient_id</th>\n",
       "    </tr>\n",
       "  </thead>\n",
       "  <tbody>\n",
       "    <tr>\n",
       "      <th>0</th>\n",
       "      <td>853520</td>\n",
       "      <td>3911565283</td>\n",
       "      <td>6885</td>\n",
       "    </tr>\n",
       "  </tbody>\n",
       "</table>\n",
       "</div>"
      ],
      "text/plain": [
       "   spectrogram_id      eeg_id  patient_id\n",
       "0          853520  3911565283        6885"
      ]
     },
     "execution_count": 18,
     "metadata": {},
     "output_type": "execute_result"
    }
   ],
   "source": [
    "if is_kaggle:\n",
    "    test_csv_path = \"/kaggle/input/hms-harmful-brain-activity-classification/test.csv\"\n",
    "elif is_colab:\n",
    "    test_csv_path = f\"input/{dataset_name}/test.csv\"\n",
    "else:\n",
    "    test_csv_path = \"./../data/input/test.csv\"\n",
    "\n",
    "test_df = pd.read_csv(test_csv_path)\n",
    "print(\"Test shape\", test_df.shape)\n",
    "test_df.head()"
   ]
  },
  {
   "cell_type": "code",
   "execution_count": 19,
   "id": "60d8a096",
   "metadata": {
    "execution": {
     "iopub.execute_input": "2024-01-22T22:04:07.509718Z",
     "iopub.status.busy": "2024-01-22T22:04:07.509114Z",
     "iopub.status.idle": "2024-01-22T22:04:08.385069Z",
     "shell.execute_reply": "2024-01-22T22:04:08.383940Z"
    },
    "papermill": {
     "duration": 0.903411,
     "end_time": "2024-01-22T22:04:08.387212",
     "exception": false,
     "start_time": "2024-01-22T22:04:07.483801",
     "status": "completed"
    },
    "tags": []
   },
   "outputs": [
    {
     "name": "stdout",
     "output_type": "stream",
     "text": [
      "New test shape (1, 1603)\n"
     ]
    }
   ],
   "source": [
    "# Feature engineer test\n",
    "if is_kaggle:\n",
    "    test_spectrograms_dir_path = \"/kaggle/input/hms-harmful-brain-activity-classification/test_spectrograms/\"\n",
    "elif is_colab:\n",
    "    test_spectrograms_dir_path = f\"input/{dataset_name}/test_spectrograms\"\n",
    "else:\n",
    "    test_spectrograms_dir_path = \"./../data/input/test_spectrograms\"\n",
    "data = np.zeros((len(test_df),len(features)))\n",
    "    \n",
    "for k in range(len(test_df)):\n",
    "    row = test_df.iloc[k]\n",
    "    s = int(row.spectrogram_id)\n",
    "    spec = pd.read_parquet(f'{test_spectrograms_dir_path}{s}.parquet')\n",
    "    \n",
    "    # 10 MINUTE WINDOW FEATURES\n",
    "    x = np.nanmean(spec.iloc[:, 1:].values, axis=0)\n",
    "    data[k, :400] = x\n",
    "    x = np.nanmin(spec.iloc[:, 1:].values, axis=0)\n",
    "    data[k, 400:800] = x\n",
    "\n",
    "    # 20 SECOND WINDOW FEATURES\n",
    "    x = np.nanmean(spec.iloc[145:155, 1:].values, axis=0)\n",
    "    data[k, 800:1200] = x\n",
    "    x = np.nanmin(spec.iloc[145:155, 1:].values, axis=0)\n",
    "    data[k, 1200:1600] = x\n",
    "\n",
    "test_df[features] = data\n",
    "print(\"New test shape\", test_df.shape)"
   ]
  },
  {
   "cell_type": "code",
   "execution_count": 20,
   "id": "20c31a68",
   "metadata": {
    "execution": {
     "iopub.execute_input": "2024-01-22T22:04:08.439268Z",
     "iopub.status.busy": "2024-01-22T22:04:08.438996Z",
     "iopub.status.idle": "2024-01-22T22:04:09.619765Z",
     "shell.execute_reply": "2024-01-22T22:04:09.618716Z"
    },
    "papermill": {
     "duration": 1.208423,
     "end_time": "2024-01-22T22:04:09.621835",
     "exception": false,
     "start_time": "2024-01-22T22:04:08.413412",
     "status": "completed"
    },
    "tags": []
   },
   "outputs": [
    {
     "name": "stdout",
     "output_type": "stream",
     "text": [
      "0 , 1 , 2 , 3 , 4 , \n",
      "Test preds shape (1, 6)\n"
     ]
    }
   ],
   "source": [
    "# Infeer catboost on test\n",
    "preds = []\n",
    "\n",
    "for index in range(5):\n",
    "    print(index, \", \", end=\"\")\n",
    "    \n",
    "    if is_kaggle or is_colab:\n",
    "        model = CatBoostClassifier(task_type=\"GPU\")\n",
    "    else:\n",
    "        model = CatBoostClassifier(task_type=\"CPU\")\n",
    "    \n",
    "    model.load_model(model_path, format=\"json\")\n",
    "    \n",
    "    test_pool = Pool(\n",
    "        data = test_df[features]\n",
    "    )\n",
    "    \n",
    "    pred = model.predict_proba(test_pool)\n",
    "    preds.append(pred)\n",
    "\n",
    "pred = np.mean(preds, axis=0)\n",
    "\n",
    "print()\n",
    "print(\"Test preds shape\", pred.shape)"
   ]
  },
  {
   "cell_type": "code",
   "execution_count": 21,
   "id": "a0ac5ae8",
   "metadata": {
    "execution": {
     "iopub.execute_input": "2024-01-22T22:04:09.673940Z",
     "iopub.status.busy": "2024-01-22T22:04:09.673673Z",
     "iopub.status.idle": "2024-01-22T22:04:09.692529Z",
     "shell.execute_reply": "2024-01-22T22:04:09.691686Z"
    },
    "papermill": {
     "duration": 0.046924,
     "end_time": "2024-01-22T22:04:09.694446",
     "exception": false,
     "start_time": "2024-01-22T22:04:09.647522",
     "status": "completed"
    },
    "tags": []
   },
   "outputs": [
    {
     "name": "stdout",
     "output_type": "stream",
     "text": [
      "Submission shape (1, 7)\n"
     ]
    },
    {
     "data": {
      "text/html": [
       "<div>\n",
       "<style scoped>\n",
       "    .dataframe tbody tr th:only-of-type {\n",
       "        vertical-align: middle;\n",
       "    }\n",
       "\n",
       "    .dataframe tbody tr th {\n",
       "        vertical-align: top;\n",
       "    }\n",
       "\n",
       "    .dataframe thead th {\n",
       "        text-align: right;\n",
       "    }\n",
       "</style>\n",
       "<table border=\"1\" class=\"dataframe\">\n",
       "  <thead>\n",
       "    <tr style=\"text-align: right;\">\n",
       "      <th></th>\n",
       "      <th>eeg_id</th>\n",
       "      <th>seizure_vote</th>\n",
       "      <th>lpd_vote</th>\n",
       "      <th>gpd_vote</th>\n",
       "      <th>lrda_vote</th>\n",
       "      <th>grda_vote</th>\n",
       "      <th>other_vote</th>\n",
       "    </tr>\n",
       "  </thead>\n",
       "  <tbody>\n",
       "    <tr>\n",
       "      <th>0</th>\n",
       "      <td>3911565283</td>\n",
       "      <td>0.392976</td>\n",
       "      <td>0.036163</td>\n",
       "      <td>0.002911</td>\n",
       "      <td>0.145406</td>\n",
       "      <td>0.056144</td>\n",
       "      <td>0.366402</td>\n",
       "    </tr>\n",
       "  </tbody>\n",
       "</table>\n",
       "</div>"
      ],
      "text/plain": [
       "       eeg_id  seizure_vote  lpd_vote  gpd_vote  lrda_vote  grda_vote  \\\n",
       "0  3911565283      0.392976  0.036163  0.002911   0.145406   0.056144   \n",
       "\n",
       "   other_vote  \n",
       "0    0.366402  "
      ]
     },
     "execution_count": 21,
     "metadata": {},
     "output_type": "execute_result"
    }
   ],
   "source": [
    "submission = pd.DataFrame({\n",
    "    \"eeg_id\": test_df.eeg_id.values\n",
    "})\n",
    "submission[targets] = pred\n",
    "submission.to_csv(\"submission.csv\", index=False)\n",
    "\n",
    "print(\"Submission shape\", submission.shape)\n",
    "submission.head()"
   ]
  },
  {
   "cell_type": "markdown",
   "id": "b473ded6",
   "metadata": {
    "papermill": {
     "duration": 0.025118,
     "end_time": "2024-01-22T22:04:09.745075",
     "exception": false,
     "start_time": "2024-01-22T22:04:09.719957",
     "status": "completed"
    },
    "tags": []
   },
   "source": [
    "## References\n",
    "- [CatBoost Starter](https://www.kaggle.com/code/cdeotte/catboost-starter-lb-0-67)"
   ]
  }
 ],
 "metadata": {
  "kaggle": {
   "accelerator": "nvidiaTeslaT4",
   "dataSources": [
    {
     "databundleVersionId": 7469972,
     "sourceId": 59093,
     "sourceType": "competition"
    },
    {
     "datasetId": 4297782,
     "sourceId": 7392775,
     "sourceType": "datasetVersion"
    }
   ],
   "dockerImageVersionId": 30635,
   "isGpuEnabled": true,
   "isInternetEnabled": true,
   "language": "python",
   "sourceType": "notebook"
  },
  "kernelspec": {
   "display_name": "Python 3",
   "language": "python",
   "name": "python3"
  },
  "language_info": {
   "codemirror_mode": {
    "name": "ipython",
    "version": 3
   },
   "file_extension": ".py",
   "mimetype": "text/x-python",
   "name": "python",
   "nbconvert_exporter": "python",
   "pygments_lexer": "ipython3",
   "version": "3.10.12"
  },
  "papermill": {
   "default_parameters": {},
   "duration": 317.642814,
   "end_time": "2024-01-22T22:04:10.690176",
   "environment_variables": {},
   "exception": null,
   "input_path": "__notebook__.ipynb",
   "output_path": "__notebook__.ipynb",
   "parameters": {},
   "start_time": "2024-01-22T21:58:53.047362",
   "version": "2.4.0"
  }
 },
 "nbformat": 4,
 "nbformat_minor": 5
}
